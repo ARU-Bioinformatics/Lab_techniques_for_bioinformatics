{
  "nbformat": 4,
  "nbformat_minor": 0,
  "metadata": {
    "colab": {
      "provenance": [],
      "authorship_tag": "ABX9TyMa2+/R4A2pHwfl+23+9iD2",
      "include_colab_link": true
    },
    "kernelspec": {
      "name": "python3",
      "display_name": "Python 3"
    },
    "language_info": {
      "name": "python"
    }
  },
  "cells": [
    {
      "cell_type": "markdown",
      "metadata": {
        "id": "view-in-github",
        "colab_type": "text"
      },
      "source": [
        "<a href=\"https://colab.research.google.com/github/ARU-Bioinformatics/Lab_techniques_for_bioinformatics/blob/main/week_6/relational_database_A.ipynb\" target=\"_parent\"><img src=\"https://colab.research.google.com/assets/colab-badge.svg\" alt=\"Open In Colab\"/></a>"
      ]
    },
    {
      "cell_type": "code",
      "execution_count": 1,
      "metadata": {
        "colab": {
          "base_uri": "https://localhost:8080/"
        },
        "id": "ljqT4RRkbe34",
        "outputId": "64c85971-cc26-453f-d022-1ef7de9c718b"
      },
      "outputs": [
        {
          "output_type": "stream",
          "name": "stdout",
          "text": [
            "Query time without index: 0.01104 seconds\n",
            "Query time with index: 0.01459 seconds\n"
          ]
        }
      ],
      "source": [
        "# Import necessary libraries\n",
        "import sqlite3\n",
        "import time\n",
        "\n",
        "# Connect to SQLite database (or create it if it doesn't exist)\n",
        "conn = sqlite3.connect('bioinformatics.db')\n",
        "c = conn.cursor()\n",
        "\n",
        "# Create tables in the database\n",
        "c.execute('''CREATE TABLE IF NOT EXISTS Patients (\n",
        "                PatientID INTEGER PRIMARY KEY NOT NULL,\n",
        "                Name TEXT NOT NULL,\n",
        "                Age INTEGER NOT NULL);''')\n",
        "\n",
        "c.execute('''CREATE TABLE IF NOT EXISTS Tests (\n",
        "                TestID INTEGER PRIMARY KEY NOT NULL,\n",
        "                TestName TEXT NOT NULL);''')\n",
        "\n",
        "c.execute('''CREATE TABLE IF NOT EXISTS Results (\n",
        "                ResultID INTEGER PRIMARY KEY NOT NULL,\n",
        "                PatientID INTEGER,\n",
        "                TestID INTEGER,\n",
        "                Result TEXT,\n",
        "                FOREIGN KEY(PatientID) REFERENCES Patients(PatientID),\n",
        "                FOREIGN KEY(TestID) REFERENCES Tests(TestID));''')\n",
        "conn.commit()\n",
        "\n",
        "# Insert sample data into the tables\n",
        "# Note: In a real scenario, ensure that IDs are unique and increment accordingly\n",
        "patients_data = [(1, 'John Doe', 30), (2, 'Jane Smith', 25), (3, 'Emily Evans', 40)]\n",
        "c.executemany('INSERT INTO Patients (PatientID, Name, Age) VALUES (?, ?, ?);', patients_data)\n",
        "\n",
        "tests_data = [(1, 'Blood Test'), (2, 'DNA Analysis')]\n",
        "c.executemany('INSERT INTO Tests (TestID, TestName) VALUES (?, ?);', tests_data)\n",
        "\n",
        "results_data = [(1, 1, 1, 'Normal'), (2, 2, 2, 'Variant Found'), (3, 3, 1, 'Slightly Elevated')]\n",
        "c.executemany('INSERT INTO Results (ResultID, PatientID, TestID, Result) VALUES (?, ?, ?, ?);', results_data)\n",
        "conn.commit()\n",
        "\n",
        "# Query data without an index\n",
        "start_time = time.time()\n",
        "for _ in range(1000):  # Simulate larger dataset by repeating the query\n",
        "    c.execute('SELECT Name FROM Patients WHERE Age > 35;')\n",
        "    results = c.fetchall()\n",
        "end_time = time.time()\n",
        "print(f\"Query time without index: {end_time - start_time:.5f} seconds\")\n",
        "\n",
        "# Add an index on the Age column in the Patients table\n",
        "c.execute('CREATE INDEX IF NOT EXISTS age_index ON Patients(Age);')\n",
        "conn.commit()\n",
        "\n",
        "# Query data with an index\n",
        "start_time = time.time()\n",
        "for _ in range(1000):  # Simulate larger dataset by repeating the query\n",
        "    c.execute('SELECT Name FROM Patients WHERE Age > 35;')\n",
        "    results = c.fetchall()\n",
        "end_time = time.time()\n",
        "print(f\"Query time with index: {end_time - start_time:.5f} seconds\")\n",
        "\n",
        "# Close the database connection\n",
        "conn.close()\n"
      ]
    }
  ]
}