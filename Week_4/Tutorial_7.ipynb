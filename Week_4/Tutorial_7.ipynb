{
  "nbformat": 4,
  "nbformat_minor": 0,
  "metadata": {
    "colab": {
      "provenance": [],
      "authorship_tag": "ABX9TyOd0pJnh9W0Hutexm9pkn2A",
      "include_colab_link": true
    },
    "kernelspec": {
      "name": "python3",
      "display_name": "Python 3"
    },
    "language_info": {
      "name": "python"
    }
  },
  "cells": [
    {
      "cell_type": "markdown",
      "metadata": {
        "id": "view-in-github",
        "colab_type": "text"
      },
      "source": [
        "<a href=\"https://colab.research.google.com/github/ARU-Bioinformatics/Lab_techniques_for_bioinformatics/blob/main/Week_4/Tutorial_7.ipynb\" target=\"_parent\"><img src=\"https://colab.research.google.com/assets/colab-badge.svg\" alt=\"Open In Colab\"/></a>"
      ]
    },
    {
      "cell_type": "markdown",
      "source": [
        "# Tutorial 7\n",
        "A restriction enzyme, also known as a restriction endonuclease, is a protein produced by bacteria that cleaves DNA at specific sequences. Bacteria use restriction enzymes as a defense mechanism against viruses (bacteriophages) by cutting the viral DNA that enters the bacterial cell, thereby inhibiting the virus's ability to replicate.\n",
        "\n",
        "Restriction enzymes recognize specific, short nucleotide sequences within DNA, known as restriction sites, and cut the DNA at or near these sites. The recognition sequences are usually 4 to 8 base pairs long, and many restriction enzymes cut DNA at palindromic sequences, which are sequences that read the same forward and backward on opposite strands of the DNA helix.\n",
        "\n",
        "The cuts made by restriction enzymes can be \"blunt\" or \"sticky\" (cohesive) ends. Blunt ends occur when the DNA is cut straight across both strands, resulting in fragments with no overhanging bases. Sticky ends occur when the enzyme makes a staggered cut, leaving overhanging bases that can easily bind with complementary bases on another DNA fragment.\n",
        "\n",
        "Restriction enzymes are essential tools in molecular biology and bioinformatics, as they allow scientists to cut DNA at precise locations. This capability is foundational for techniques such as cloning, where DNA fragments can be inserted into vectors; genetic mapping; and various forms of DNA analysis."
      ],
      "metadata": {
        "id": "DTQLeTd3Mhs3"
      }
    },
    {
      "cell_type": "markdown",
      "source": [
        "Let's simulate a simple scenario where we have a DNA sequence and a restriction enzyme that recognizes a specific sequence within the DNA. We'll use Python to find the recognition site and simulate the cut made by the restriction enzyme.\n",
        "\n",
        "For this example, we'll use a hypothetical DNA sequence and a restriction enzyme that recognizes the sequence \"GAATTC\" (a real enzyme that recognizes this sequence is EcoRI, commonly used in molecular biology). EcoRI cuts between the G and the A, producing sticky ends.\n",
        "\n",
        "Run the code cell below, and then see the explainer for what it has done."
      ],
      "metadata": {
        "id": "de_iH5e2MuVa"
      }
    },
    {
      "cell_type": "code",
      "source": [
        "# Hypothetical DNA sequence\n",
        "dna_sequence = \"AACCGGAATTCCGGTTCAAGAATTCGGCCAAGTTC\"\n",
        "\n",
        "# Restriction enzyme recognition sequence\n",
        "recognition_sequence = \"GAATTC\"\n",
        "\n",
        "# Simulate restriction enzyme cutting by finding the index of the recognition sequence\n",
        "cut_sites = []\n",
        "start = 0\n",
        "while True:\n",
        "    # Find the recognition sequence in the DNA\n",
        "    start = dna_sequence.find(recognition_sequence, start)\n",
        "\n",
        "    # If the sequence is not found, break the loop\n",
        "    if start == -1:\n",
        "        break\n",
        "\n",
        "    # EcoRI cuts between G and A, so we add 1 to the start index\n",
        "    cut_site = start + 1\n",
        "\n",
        "    # Append the cut site to the list\n",
        "    cut_sites.append(cut_site)\n",
        "\n",
        "    # Move past this occurrence to find any further occurrences\n",
        "    start += len(recognition_sequence)\n",
        "\n",
        "# Output the original DNA sequence and the cut sites\n",
        "print(\"Original DNA sequence:\", dna_sequence)\n",
        "print(\"Cut sites at positions:\", cut_sites)\n",
        "\n",
        "# If there are cut sites, show the resulting fragments\n",
        "if cut_sites:\n",
        "    fragments = [dna_sequence[:cut_sites[0]]]\n",
        "    for i in range(len(cut_sites)-1):\n",
        "        fragments.append(dna_sequence[cut_sites[i]:cut_sites[i+1]])\n",
        "    fragments.append(dna_sequence[cut_sites[-1]:])\n",
        "    print(\"Resulting DNA fragments after cuts:\", fragments)\n",
        "else:\n",
        "    print(\"No cuts made.\")\n"
      ],
      "metadata": {
        "id": "4nR6zsztMtf9"
      },
      "execution_count": null,
      "outputs": []
    },
    {
      "cell_type": "markdown",
      "source": [
        "## Python explainer\n",
        "**The `while` Loop**\n",
        "\n",
        "The `while` loop is used to repeatedly search for all occurrences of the restriction enzyme's recognition sequence within the DNA sequence. It keeps running as long as the condition it checks remains `True`. Here's the structure and logic step by step:\n",
        "\n",
        "1.  **Initialization**: Before entering the `while` loop, we start with `start = 0`. This variable is used to keep track of where in the DNA sequence we are starting our search for the recognition sequence. Initially, we want to start from the beginning, hence `0`.\n",
        "\n",
        "2.  **Condition Check**: The loop condition is `True` by default because of the `while True:` statement. This means the loop will keep running indefinitely unless we explicitly tell it to stop (which we do using a `break` statement inside the loop).\n",
        "\n",
        "3.  **Finding the Recognition Sequence**: Inside the loop, we use the `find` method: `start = dna_sequence.find(recognition_sequence, start)`. This method searches for the recognition sequence starting from the index `start` in the `dna_sequence`. If it finds the sequence, it returns the index (position) where the sequence starts. If it doesn't find the sequence, it returns `-1`.\n",
        "\n",
        "Checking if the Sequence is Found: If `find` returns `-1`, it means the sequence was not found. In this case, we `break` out of the loop, stopping the search.\n",
        "\n",
        "Recording the Cut Site: If the sequence is found, we calculate the cut site. For EcoRI, which cuts between G and A in \"GAATTC\", we add 1 to the index of G (the start of the recognition sequence). This is because Python indexing starts at 0, so adding 1 gives us the position immediately after G.\n",
        "\n",
        "Preparing for the Next Iteration: Finally, we increment `start` by the length of the recognition sequence to move past this occurrence and continue searching for further occurrences. This prevents the loop from finding the same sequence again and ensures we check the entire DNA sequence.\n",
        "\n",
        "**The `for` Loop**\n",
        "\n",
        "The `for` loop is used to iterate through the list of cut sites (positions where the DNA will be cut) to create the resulting DNA fragments:\n",
        "\n",
        "1.  **Iterating Through Cut Sites**: The `for` loop iterates through each index in the range of `0` to the number of cut sites minus one `(len(cut_sites)-1)`. For each iteration, the loop variable `i` represents the current index in the list of cut sites.\n",
        "\n",
        "2.  **Creating Fragments**: Inside the loop, we use the current and next cut sites to slice the DNA sequence and create a fragment. The expression `dna_sequence[cut_sites[i]:cut_sites[i+1]]` takes the part of the DNA sequence from the current cut site up to but not including the next cut site. This way, we get all fragments between the cut sites.\n",
        "\n",
        "3. **Handling the First and Last Fragments**: Outside the loop, we handle special cases for the first fragment (before the first cut) and the last fragment (after the last cut) because they don't fit neatly into the pattern inside the loop. We add the first fragment by slicing from the beginning of the DNA sequence to the first cut site, and the last fragment by slicing from the last cut site to the end of the DNA sequence.\n",
        "\n",
        "By using these loops, the code efficiently finds all occurrences of the restriction sequence and calculates the resulting DNA fragments after the cuts, demonstrating the action of a restriction enzyme on DNA."
      ],
      "metadata": {
        "id": "o_gPqy4KM5UB"
      }
    },
    {
      "cell_type": "markdown",
      "source": [
        "## Exercise\n",
        "\n",
        "Now it is your turn to modify the python code above. Copy the code into the code cell below, and edit the input DNA sequence to be your gene seqeunce from Benchling that you found in the week 3 tutorial. Use the restirction enzyme recognition site from the week 4 practical, and identify how many fragments you would generate. Compare this to your result from Benchling."
      ],
      "metadata": {
        "id": "eF7VfrsAOjpg"
      }
    },
    {
      "cell_type": "code",
      "execution_count": null,
      "metadata": {
        "id": "CyViI5iYMhHL"
      },
      "outputs": [],
      "source": [
        "# Put your python code here"
      ]
    }
  ]
}