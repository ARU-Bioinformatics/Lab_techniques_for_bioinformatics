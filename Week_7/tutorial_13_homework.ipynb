{
  "cells": [
    {
      "cell_type": "markdown",
      "metadata": {
        "id": "view-in-github",
        "colab_type": "text"
      },
      "source": [
        "<a href=\"https://colab.research.google.com/github/ARU-Bioinformatics/Lab_techniques_for_bioinformatics/blob/main/Week_7/tutorial_13_homework.ipynb\" target=\"_parent\"><img src=\"https://colab.research.google.com/assets/colab-badge.svg\" alt=\"Open In Colab\"/></a>"
      ]
    },
    {
      "cell_type": "markdown",
      "metadata": {
        "id": "FuiMMlWca4_s"
      },
      "source": [
        "# Homework: Writing your own functions\n",
        "\n",
        "Make sure you have worked through **tutorial_13_workbook.ipynb** before tackling this homework."
      ]
    },
    {
      "cell_type": "markdown",
      "metadata": {
        "id": "OvV-S84ia4_z"
      },
      "source": [
        "> ### Reminder: saving your work\n",
        ">\n",
        "> As you work through the work book it is important to regularly save your work. Notice that as you have made  changes the Jupyter window top line will warn you there are `(unsaved changes)` in small text. To save your work in this notebook by either select menu item `File` `Save` or by hit the save button:\n",
        ">\n",
        "> ![Jupyter Notebook Save Button|](https://aru-bioinf-ibds.github.io./images/save_button.png)\n",
        ">\n",
        ">\n",
        "> ### Reminder: getting help\n",
        "> Please see the page:\n",
        "> [Help with programming](https://canvas.anglia.ac.uk/courses/12178/pages/help-with-programming)\n",
        "> on ARU Canvas."
      ]
    },
    {
      "cell_type": "markdown",
      "metadata": {
        "id": "ErYuPH-Qa4_2"
      },
      "source": [
        "## Function for finding the percentage GC content in a DNA sequence\n",
        "As we have already seen in workbook A, DNAs with higher proportion of GC base pairs compared to AT have a higher melting temperature and parts of the genome with a higher GC content tend to code for proteins, see https://en.wikipedia.org/wiki/GC-content.\n",
        "\n",
        "Use the len() function and .count() method to find out the percentage GC content:\n",
        "\n",
        "$$\n",
        "percent_{GC} = 100*\\frac{N_G + N_C}{N_{total}}\n",
        "$$\n",
        "\n",
        "where $N_G$ is the number of G's in the sequence, $N_C$ is the number of C's in the sequence and $N_{total}$ is the total length of the sequence."
      ]
    },
    {
      "cell_type": "markdown",
      "metadata": {
        "id": "8UZdXIj0a4_4"
      },
      "source": [
        "**Now it is your turn!**\n",
        "\n",
        "Write a function that returns the percentage G and C bases in a DNA given sequence.\n",
        "\n",
        "* First think what would be a good name for the function. The Python convention is\n",
        "  that function names are lower case with words separated by underscores - so lets call\n",
        "  it `percentage_gc`\n",
        "* What arguments should `percentage_gc` have?\n",
        "* What will `percentage_gc` return."
      ]
    },
    {
      "cell_type": "code",
      "execution_count": null,
      "metadata": {
        "id": "0SXXMBQ1a4_6"
      },
      "outputs": [],
      "source": [
        "# Instruction: write a function thats returns the number of G and C bases in a given sequence.\n",
        "def ___(___):   ### replace the ____\n",
        "    \"\"\"docstring describing the function\"\"\"\n",
        "    return ____ ### replace the ____"
      ]
    },
    {
      "cell_type": "markdown",
      "metadata": {
        "id": "FdfXZW5qa4_7"
      },
      "source": [
        "Now lets first review the help message for the function:"
      ]
    },
    {
      "cell_type": "code",
      "execution_count": null,
      "metadata": {
        "id": "FgvRxI4ha4_8"
      },
      "outputs": [],
      "source": [
        "# Instruction: run this cell to see the help message for the function:\n",
        "help(percentage_gc)"
      ]
    },
    {
      "cell_type": "markdown",
      "metadata": {
        "id": "lCWuXs7ma4_9"
      },
      "source": [
        "**Question:** is the help message understandable without reading the function?\n",
        "If not revise the docstring in you percentage_gc function above."
      ]
    },
    {
      "cell_type": "markdown",
      "metadata": {
        "id": "DJngKbTGa4_-"
      },
      "source": [
        "Now we need to test the `percent_gc` function works\n",
        "\n",
        "First complete this table\n",
        "\n",
        "> you will need to edit this Markdown cell to do this double click on this cell\n",
        "> and then replace the ? in the table below. When you have finished run the cell\n",
        "> with the run button above (and save your work).\n",
        "\n",
        "| **test sequence** | **Percentage GC content** |\n",
        "| ----------------- | :-----------------------: |\n",
        "| G                 | 100%     |\n",
        "| AC                |  50%     |   \n",
        "| CAT               |  33.333% |\n",
        "| C                 | 100%     |\n",
        "| A                 |   0%     |\n",
        "| AAA               |    ?     |\n",
        "| GGG               |    ?     |\n",
        "| GAC               |    ?     |\n",
        "| GGGAAACCCTTT      |    ?     |\n",
        "\n",
        "A good way to store this data is as a list of tuples, where each tuple is (a test sequence, manually calculated %GC content):"
      ]
    },
    {
      "cell_type": "code",
      "execution_count": null,
      "metadata": {
        "id": "XmS2Xw4ga4__"
      },
      "outputs": [],
      "source": [
        "# Idea: complete this test the percentage_gc function with\n",
        "#       the data from the completed table above.\n",
        "test_seq_percent_gc = [('G', 100.),\n",
        "                       ('AC', 50.),\n",
        "                       ('CAT', 33.33333)\n",
        "                       # complete input data from table above\n",
        "                      ]\n",
        "for test_seq, expect_percent in test_seq_percent_gc:\n",
        "    print('test sequence ' + test_seq)\n",
        "    print('  expect%:' + str(expect_percent))\n",
        "    # Instruction: apply the percentage_gc function on test_seq and store the\n",
        "    #              result in a variable \"actual_percent\"\n",
        "    ### replace this line\n",
        "\n",
        "    # Instruction: modify the next line to print out \"actual_percent\"\n",
        "    print(' actual%:') ### modify this line\n",
        "    # Instruction: now compare expect_percent and actual_percent agree to 3 decimal places.\n",
        "    #              If they agree print 'PASS' otherwise print 'FAIL'\n",
        "    #               see Hint in next cell for comparing floating numbers\n",
        "    ### add lines to do comparison."
      ]
    },
    {
      "cell_type": "markdown",
      "metadata": {
        "id": "K3YYMWkpa5AA"
      },
      "source": [
        "**Hint** Comparing floating numbers are exactly equal can lead to problems because of limited precision in numerical calculations. There are many ways to get around the problem (see https://stackoverflow.com/questions/5595425/what-is-the-best-way-to-compare-floats-for-almost-equality-in-python).\n",
        "\n",
        "A reasonable approach here is to use the round function to compare the numbers to 3 decimal places:"
      ]
    },
    {
      "cell_type": "code",
      "execution_count": null,
      "metadata": {
        "id": "bdvzCilXa5AB"
      },
      "outputs": [],
      "source": [
        "# Instruction run this cell to see help on the round function\n",
        "help(round)"
      ]
    },
    {
      "cell_type": "code",
      "execution_count": null,
      "metadata": {
        "id": "mBZ0wchqa5AC"
      },
      "outputs": [],
      "source": [
        "# instruction run this example to see how round can be used to compare numbers\n",
        "a_num = 6.0\n",
        "b_num = 5.999\n",
        "print('b_num rounded to 2 d.p. ' + str(round(b_num, ndigits=2)))\n",
        "if round(a_num, ndigits=2) == round(b_num, ndigits=2):\n",
        "    print('the two numbers agree to 2 decimal places')\n",
        "else:\n",
        "    print('the two numbers do not agree to 2 d.p.')"
      ]
    },
    {
      "cell_type": "markdown",
      "metadata": {
        "collapsed": true,
        "id": "F-dEb01Ka5AC"
      },
      "source": [
        "## Predicting the melting temperature of short DNA sequences\n",
        "\n",
        "The GC content of DNA is an important property. Although DNA forms double helical structures it is\n",
        "often necessary in both biology and biotechnology to separate the two strands. One way of seperating the strands is to warm up the DNA solution so that the DNA double helix 'melts' into separate strands.\n",
        "See video: https://www.youtube.com/watch?v=OblPqlOOgew for further background. If the temperature is reduced the\n",
        "DNA will 'anneal' back to the double stranded form.\n",
        "\n",
        "DNA melting and annealing are crucial for [polymerase chain reaction (PCR)](https://www.nature.com/scitable/definition/polymerase-chain-reaction-pcr-110).\n",
        "PCR is a widely used molecular biology technique to reproduce (amplify) selected\n",
        "sections of DNA. Knowing the DNA melting temperature for given DNA sequences is\n",
        "important for PCR.\n",
        "\n",
        "For short DNA sequences it is possible to predict the DNA melting temperature (the temperature at which 50% of the DNA is double-helical and 50% is in single strands) from its sequence (from http://biotools.nubic.northwestern.edu/OligoCalc.html). For sequences less than 14 bases the:\n",
        "\n",
        "$$\n",
        "T_m = 2(N_A + N_T) + 4(N_G + N_C)\n",
        "$$\n",
        "\n",
        "where:\n",
        "* $T_m$ is the 'basic' melting temperature in $^{\\circ}C$\n",
        "* $N_A$ is the number of A's in the sequence\n",
        "* $N_T$ is the number of T's in the sequence\n",
        "* $N_G$ is the number of G's in the sequence\n",
        "* $N_C$ is the number of C's in the sequence\n",
        "\n",
        "This formula is from http://biotools.nubic.northwestern.edu/OligoCalc.html who cite Marmur,J., and Doty,P. (1962) *J Mol Biol* **5**:109-118 https://doi.org/10.1016/S0022-2836(62)80066-7\n",
        "\n",
        "You can see that as we would expect sequences of the same length with a higher GC content have a higher predicted melting temperature.\n",
        "\n",
        "Write a function basic_tm to calculate the basic melting temperature according to the equation."
      ]
    },
    {
      "cell_type": "code",
      "execution_count": null,
      "metadata": {
        "id": "jSBo39M2a5AD"
      },
      "outputs": [],
      "source": [
        "# Instruction write a basic_tm function\n",
        "def basic_tm(sequence):\n",
        "    \"\"\"your docsting\"\"\"\n",
        "    tm = 0 # replace this line\n",
        "    return tm"
      ]
    },
    {
      "cell_type": "markdown",
      "metadata": {
        "id": "4ugtYrbha5AD"
      },
      "source": [
        "Now lets review the help message:"
      ]
    },
    {
      "cell_type": "code",
      "execution_count": null,
      "metadata": {
        "id": "Bj3WpcBia5AD"
      },
      "outputs": [],
      "source": [
        "# Instruction: run this cell to see the help message for basic_tm:\n",
        "help(basic_tm)"
      ]
    },
    {
      "cell_type": "markdown",
      "metadata": {
        "id": "dNjxA-aCa5AE"
      },
      "source": [
        "**Questions:**\n",
        "* Is the help message understandable?\n",
        "* Could you use the function without reading its code?\n",
        "* Have you credited where the formula came from.\n",
        "  It is really important as a scientist to correctly cite\n",
        "  others work.\n",
        "  \n",
        "If not revise the docstring in the basic_tm above."
      ]
    },
    {
      "cell_type": "markdown",
      "metadata": {
        "id": "2kiBw4Ina5AF"
      },
      "source": [
        "#### Testing the function:\n",
        "\n",
        "Does your function work as it should. We need some data to test.\n",
        "    \n",
        "Complete the following table by running the basic tm calculation for\n",
        "each sequence at http://biotools.nubic.northwestern.edu/OligoCalc.html\n",
        "\n",
        "| **test sequence**   | **Basic Tm (degrees C) from OligoCalc** |\n",
        "| -----------------   | :-------------------------------------: |\n",
        "| G                   |  4    |\n",
        "| GG                  |  8    |   \n",
        "| A                   |  ?    |\n",
        "| GA                  |  ?    |\n",
        "| *choose a sequence* |  ?    |\n",
        "| *choose a sequence* |  ?    |\n",
        "| *choose a sequence* |  ?    |\n",
        "\n",
        "The formula applies for sequences less than 14 bases. So when choosing sequences\n",
        "it would be a good idea to include two or three sequences that are 13 bases long\n",
        "with different (high, low, medium) percentage GC."
      ]
    },
    {
      "cell_type": "code",
      "execution_count": null,
      "metadata": {
        "id": "ys5IF2Dia5AG"
      },
      "outputs": [],
      "source": [
        "# create a test data list tuples pairs like we did above"
      ]
    },
    {
      "cell_type": "code",
      "execution_count": null,
      "metadata": {
        "id": "SlKl_rZOa5AG"
      },
      "outputs": [],
      "source": [
        "# now test your function with test_seq_basic_tm\n",
        "# FIRST cut and paste and adapt code from the example above"
      ]
    },
    {
      "cell_type": "code",
      "execution_count": null,
      "metadata": {
        "id": "hi52Proya5AH"
      },
      "outputs": [],
      "source": [
        "# Advanced programmers only! Avoid code duplication\n",
        "# in the testing by writing a function  that can test\n",
        "# both percentage_gc and basic_tm functions against the\n",
        "# appropriate test data set."
      ]
    },
    {
      "cell_type": "markdown",
      "metadata": {
        "id": "pTL9V7SZa5AI"
      },
      "source": [
        "### Dealing with longer sequences\n",
        "\n",
        "Returning to the prediction of the DNA melting temperature. The formula:\n",
        "\n",
        "$$\n",
        "T_m = 2(N_A + N_T) + 4(N_G + N_C)\n",
        "$$\n",
        "\n",
        "only applies for sequences that are shorter than 14 nucleotide.\n",
        "For sequences of 14 nucleotides and longer the OligoCalc Tool\n",
        "http://biotools.nubic.northwestern.edu/OligoCalc.html\n",
        "uses the equation:\n",
        "\n",
        "$$\n",
        "T_m= 64.9 +41.\\frac{N_G + N_C - 16.4}{N_A + N_T + N_G + N_C}\n",
        "$$\n",
        "\n",
        "This equation is taken from\n",
        "Sambrook,J., and Russell,D.W. (2001) Molecular Cloning: A Laboratory Manual. Cold Spring Harbor Laboratory Press; Cold Spring Harbor, NY. [CHSL Press](http://www.molecularcloning.com/)."
      ]
    },
    {
      "cell_type": "markdown",
      "metadata": {
        "id": "6nydIttYa5AI"
      },
      "source": [
        "First extend your test set to include sequences of 14 bases and upwards:\n",
        "\n",
        "Complete the following table by running the basic tm calculation for\n",
        "each sequence at http://biotools.nubic.northwestern.edu/OligoCalc.html\n",
        "\n",
        "| **test sequence**   | **Basic Tm (degrees C) from OligoCalc** |\n",
        "| -----------------   | :-------------------------------------: |\n",
        "| `14*'G'`            |  57.9   |\n",
        "| `14*'A'`            |  16.9  |   \n",
        "| *choose a longer sequence* |  ?    |\n",
        "| *choose a longer sequence* |  ?    |\n",
        "| *choose a longer sequence* |  ?    |\n",
        "\n",
        "*Note that Oligocalc quotes Basic Tm to one decimal place. It might\n",
        "have been more appropriate to round to the nearest figure to\n",
        "show users these are ball-park predictions? In any case you will\n",
        "need to take this into account in your comparisons*"
      ]
    },
    {
      "cell_type": "code",
      "execution_count": null,
      "metadata": {
        "id": "46r2XpWea5AJ"
      },
      "outputs": [],
      "source": [
        "# instruction append this test data to your test_data list for basic_tm function"
      ]
    },
    {
      "cell_type": "code",
      "execution_count": null,
      "metadata": {
        "id": "d3T60trLa5AJ"
      },
      "outputs": [],
      "source": [
        "# instruction check that the current implementation of basic_tm fails for new test data"
      ]
    },
    {
      "cell_type": "code",
      "execution_count": null,
      "metadata": {
        "id": "fU2gcXORa5AJ"
      },
      "outputs": [],
      "source": [
        "# instruction - replace basic_tm with a new implementation that deals with longer sequences"
      ]
    },
    {
      "cell_type": "code",
      "execution_count": null,
      "metadata": {
        "id": "yD38pkKYa5AK"
      },
      "outputs": [],
      "source": [
        "# instruction - check the help message for the new implementation of basic_tm"
      ]
    },
    {
      "cell_type": "code",
      "execution_count": null,
      "metadata": {
        "id": "sPrt-28Ea5AL"
      },
      "outputs": [],
      "source": [
        "# instruction - rerun tests and check that basic_tm works."
      ]
    },
    {
      "cell_type": "markdown",
      "metadata": {
        "id": "zrypBdmFa5AL"
      },
      "source": [
        "## Optional: Adapting the basic_tm to deal with  ambiguous sequence X\n",
        "\n",
        "> Have a go at this if you have time.\n",
        "\n",
        "* What happens if you were presented with sequences where there was ambiguity and unknown nucleotides were marked with the code `X` ?\n",
        "* There are a number of possibilities:\n",
        "  * We could ignore the `X` completely - but is this sensible?\n",
        "  * Or we could work out the maximum basic_tm by assuming that all `X` were `G` or `C`\n",
        "  * Conversely we could find the minimum basic_tm by assuming that all `X` were `A` or `T`\n",
        "  * Or we could take a 'half-way house' that produces answers averaging the maximum and minimum.\n",
        "  \n",
        "Adapt your functions introducing an optional argument:\n",
        "```\n",
        "ambiguity='mid'\n",
        "\n",
        "# docstring description for ambiguity\n",
        "\"\"\"\n",
        "ambiguity controls how X in sequence are treated.\n",
        "If ambiguity is set to 'max' then X's in sequence are treated\n",
        "as G/C to give the maximum basic Tm. If set to 'min' then\n",
        "they are treated as A/T to give the minimum. The default 'mid'\n",
        "averages the 'max' and 'min' values.\n",
        "\"\"\"\n",
        "```"
      ]
    },
    {
      "cell_type": "code",
      "execution_count": null,
      "metadata": {
        "id": "3mhk_Sc1a5AL"
      },
      "outputs": [],
      "source": [
        "# instruction - introduce the ambiguity='mid' into basic_tm"
      ]
    },
    {
      "cell_type": "code",
      "execution_count": null,
      "metadata": {
        "id": "5_TkcnLva5AL"
      },
      "outputs": [],
      "source": [
        "# test it (manual will do)"
      ]
    },
    {
      "cell_type": "markdown",
      "metadata": {
        "id": "VjEPttDga5AM"
      },
      "source": [
        "Extend the ambiguity optional argument to have an additional value `'range'` that instead of returning a single basic_tm value returns a tuple of the minimum to maximum values."
      ]
    },
    {
      "cell_type": "code",
      "execution_count": null,
      "metadata": {
        "id": "eEhVAx4Ya5AM"
      },
      "outputs": [],
      "source": [
        "# instruction - introduce the additional value 'range' for ambiguity"
      ]
    },
    {
      "cell_type": "code",
      "execution_count": null,
      "metadata": {
        "id": "k4-JQ_Epa5AN"
      },
      "outputs": [],
      "source": [
        "# test it (manual will do)"
      ]
    },
    {
      "cell_type": "markdown",
      "metadata": {
        "id": "nrkLPJgJa5AN"
      },
      "source": [
        "# Real world prediction of DNA melting temperatures using Python\n",
        "\n",
        "* For real-world prediction of DNA melting temperatures [BioPython](https://biopython.org/)\n",
        "  includes a MeltingTemp module:\n",
        "\n",
        "  http://biopython.org/DIST/docs/api/Bio.SeqUtils.MeltingTemp-module.html\n",
        "\n",
        "  that implements a wide range of algorithms for Tm prediction.\n",
        "  \n",
        "  An alternative is https://pypi.org/project/melt/\n",
        "  \n",
        "Web tools:\n",
        "* http://biotools.nubic.northwestern.edu/OligoCalc.html\n",
        "* https://www.ebi.ac.uk/biomodels-static/tools/melting/melt.php"
      ]
    },
    {
      "cell_type": "markdown",
      "metadata": {
        "id": "qFzB2eL0a5AN"
      },
      "source": [
        "## Optional: Try out the BioPython MeltingTemp module\n",
        "\n",
        "This is for the keen!"
      ]
    },
    {
      "cell_type": "markdown",
      "metadata": {
        "collapsed": true,
        "id": "Otbjkkqka5AO"
      },
      "source": [
        "> ### Reminder: saving your work\n",
        ">\n",
        "> As you work through the work book it is important to regularly save your work. Notice that as you have made  changes the Jupyter window top line will warn you there are `(unsaved changes)` in small text. To save your work in this notebook by either select menu item `File` `Save` or by hit the save button:\n",
        ">\n",
        "> ![Jupyter Notebook Save Button|](https://aru-bioinf-ibds.github.io./images/save_button.png)\n",
        ">\n",
        ">\n",
        "> ### Reminder: getting help\n",
        "> Please see the page:\n",
        "> [Help with programming](https://canvas.anglia.ac.uk/courses/12178/pages/help-with-programming)\n",
        "> on ARU Canvas."
      ]
    },
    {
      "cell_type": "markdown",
      "metadata": {
        "id": "KeoE5s20a5AO"
      },
      "source": [
        "## Once you have completed this homework,\n",
        "Please see ARU Canvas page\n",
        "[Reflection on Practical E: writing your own functions](https://canvas.anglia.ac.uk/courses/12178/discussion_topics/109556)\n",
        "for the follow up."
      ]
    },
    {
      "cell_type": "code",
      "execution_count": null,
      "metadata": {
        "id": "2KSEEYmCa5AX"
      },
      "outputs": [],
      "source": []
    }
  ],
  "metadata": {
    "kernelspec": {
      "display_name": "Python 3",
      "language": "python",
      "name": "python3"
    },
    "language_info": {
      "codemirror_mode": {
        "name": "ipython",
        "version": 3
      },
      "file_extension": ".py",
      "mimetype": "text/x-python",
      "name": "python",
      "nbconvert_exporter": "python",
      "pygments_lexer": "ipython3",
      "version": "3.7.1"
    },
    "colab": {
      "provenance": [],
      "include_colab_link": true
    }
  },
  "nbformat": 4,
  "nbformat_minor": 0
}