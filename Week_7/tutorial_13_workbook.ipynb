{
  "cells": [
    {
      "cell_type": "markdown",
      "metadata": {
        "id": "view-in-github",
        "colab_type": "text"
      },
      "source": [
        "<a href=\"https://colab.research.google.com/github/ARU-Bioinformatics/Lab_techniques_for_bioinformatics/blob/main/Week_7/tutorial_13_workbook.ipynb\" target=\"_parent\"><img src=\"https://colab.research.google.com/assets/colab-badge.svg\" alt=\"Open In Colab\"/></a>"
      ]
    },
    {
      "cell_type": "markdown",
      "metadata": {
        "id": "O0CxiunKa2z4"
      },
      "source": [
        "# Tutorial Writing your own functions\n"
      ]
    },
    {
      "cell_type": "markdown",
      "metadata": {
        "collapsed": true,
        "id": "dHnaqoE7a2z8"
      },
      "source": [
        "> ### Reminder: saving your work\n",
        ">\n",
        "> As you work through the work book it is important to regularly save your work. Notice that as you have made  changes the Jupyter window top line will warn you there are `(unsaved changes)` in small text. To save your work in this notebook by either select menu item `File` `Save` or by hit the save button:\n",
        ">\n",
        "> ![Jupyter Notebook Save Button|](https://aru-bioinf-ibds.github.io./images/save_button.png)\n",
        ">\n",
        ">\n",
        "> ### Reminder: getting help\n",
        "> Please see the page:\n",
        "> [Help with programming](https://canvas.anglia.ac.uk/courses/12178/pages/help-with-programming)\n",
        "> on ARU Canvas."
      ]
    },
    {
      "cell_type": "markdown",
      "metadata": {
        "id": "w2Q5k45Ea2z-"
      },
      "source": [
        "## Python functions: built-in functions\n",
        "\n",
        "We have been using already been using Python's in-built functions a lot:"
      ]
    },
    {
      "cell_type": "code",
      "execution_count": null,
      "metadata": {
        "id": "Ee86RTTPa2z_"
      },
      "outputs": [],
      "source": [
        "# Instruction: run this cell to see built in functions we have been using\n",
        "print('to find the length of a string len(\"a string\")=', len('a string'))\n",
        "species = ['dog', 'cat', 'mule']\n",
        "print('to the type of the \"species\" variable use type(species)=', type(species))"
      ]
    },
    {
      "cell_type": "markdown",
      "metadata": {
        "id": "gSMNU6_ma20C"
      },
      "source": [
        "Great thing about these functions is that\n",
        "* we do not need to worry about how they work\n",
        "* they produce code that is easy to read - it is obvious `len(snips_list)` will produce a number that equals the number of items in the `snips_list`\n",
        "* and that it is easy to get help about how they work: for instance to get help on the len function:"
      ]
    },
    {
      "cell_type": "code",
      "execution_count": null,
      "metadata": {
        "id": "JdHbaPoxa20C"
      },
      "outputs": [],
      "source": [
        "# Instruction: run this cell to get help on the len() function\n",
        "help(len)"
      ]
    },
    {
      "cell_type": "markdown",
      "metadata": {
        "id": "lYTM2D6qa20D"
      },
      "source": [
        "**Your turn** what does the Python built-in function `abs()` do?"
      ]
    },
    {
      "cell_type": "code",
      "execution_count": null,
      "metadata": {
        "id": "YaYki8gja20E"
      },
      "outputs": [],
      "source": [
        "# Instruction: write Python expression to find out what abs function does\n",
        "### your Python code"
      ]
    },
    {
      "cell_type": "markdown",
      "metadata": {
        "id": "ZvR99LVQa20E"
      },
      "source": [
        "Now print out the abs function for -15 and -123.5 and 7"
      ]
    },
    {
      "cell_type": "code",
      "execution_count": null,
      "metadata": {
        "id": "gaNTwLQja20F"
      },
      "outputs": [],
      "source": [
        "# Instruction: print out the abs function for the input -15 and -123.5 and 7\n",
        "### your Python code"
      ]
    },
    {
      "cell_type": "markdown",
      "metadata": {
        "id": "IJuylurra20F"
      },
      "source": [
        "## Writing a function\n",
        "\n",
        "Built-in functions are really useful but we clearly need to be able to produce our own functions for bioinformatics and data science.\n",
        "\n",
        "As you have already seen in the [DataCamp online course: Python Data Science Toolbox (Part 1)\n",
        "](https://campus.datacamp.com/courses/python-data-science-toolbox-part-1/) writing a function is simple:"
      ]
    },
    {
      "cell_type": "code",
      "execution_count": null,
      "metadata": {
        "id": "gpOv9ebza20G"
      },
      "outputs": [],
      "source": [
        "# Instruction: run this cell containing an example function called double\n",
        "def double(number):\n",
        "    \"\"\"\n",
        "    returns doubles the input number.\n",
        "\n",
        "    Note: this is a docstring describing what function does.\n",
        "    docstrings can have more than one line!\n",
        "    \"\"\"\n",
        "    double_number = 2*number\n",
        "    return double_number"
      ]
    },
    {
      "cell_type": "markdown",
      "metadata": {
        "id": "_LeUS1hka20G"
      },
      "source": [
        "When you ran the cell notice that no output was produced. But the Jupyter Notebook kernel now knows there is a function called `double`.\n",
        "* It has a single **parameter** called `number`.\n",
        "* the function definition starts with a header line starting `def` and ending with a colon `:`\n",
        "* the function is then indented with 4 spaces (in the same way as `if` and `for`).\n",
        "* The first thing in a function should be a **docstring** that is surrounded by triple double quotation marks.\n",
        "* The **docstring** can have more than one line.\n",
        "* this function returns a single value with a **return** statement.\n",
        "\n",
        "The function can be called, for example the next cell with run `double` twice, once with an argument of `2` (an integer) and then again with an argument of `-1975.13` (a floating number). In each case the result will be printed."
      ]
    },
    {
      "cell_type": "code",
      "execution_count": null,
      "metadata": {
        "id": "6oLdGCy0a20H"
      },
      "outputs": [],
      "source": [
        "# Instruction: run this cell to show running the double function\n",
        "print(double(2))\n",
        "print(double(-1975.13))"
      ]
    },
    {
      "cell_type": "markdown",
      "metadata": {
        "id": "Yqh7wWwba20H"
      },
      "source": [
        "Note that the actual value of the argument is used as the parameter `number` when the `double` function is run."
      ]
    },
    {
      "cell_type": "markdown",
      "metadata": {
        "id": "JEosq9LIa20I"
      },
      "source": [
        "The docstring help message for `double` can be accessed in the same way we have seen for Python built in functions (like `len`):"
      ]
    },
    {
      "cell_type": "code",
      "execution_count": null,
      "metadata": {
        "id": "R6jrnWyya20I"
      },
      "outputs": [],
      "source": [
        "help(double)"
      ]
    },
    {
      "cell_type": "markdown",
      "metadata": {
        "id": "D5p5O_hPa20I"
      },
      "source": [
        "**Now it is your turn!**\n",
        "\n",
        "The following bit of code works out the complement of a given DNA sequence:"
      ]
    },
    {
      "cell_type": "code",
      "execution_count": null,
      "metadata": {
        "id": "R6qg_QLya20J"
      },
      "outputs": [],
      "source": [
        "sequence = 'ATTGGGCCCC'\n",
        "complement = sequence.replace('A','t')\n",
        "complement = complement.replace('T','a')\n",
        "complement = complement.replace('G','c')\n",
        "complement = complement.replace('C','g')\n",
        "complement = complement.upper()\n",
        "complement"
      ]
    },
    {
      "cell_type": "markdown",
      "metadata": {
        "id": "17dlAFaaa20J"
      },
      "source": [
        "But what if we wanted to work out the complement of another sequence:\n",
        "```\n",
        "tata_oligo = 'CTGCTATAAAAGGCTG'\n",
        "```\n",
        "We *could* copy and paste the code section above and then adapt it but this\n",
        "is **a really bad idea**. Instead it is much better to use a function.\n",
        "If you find yourself copy and  pasting sections of code in your work then think again -\n",
        "there is likely to be a better way.\n",
        "\n",
        "So lets create a function to work out the complement of a sequence. What would a sensible function name be>"
      ]
    },
    {
      "cell_type": "code",
      "execution_count": null,
      "metadata": {
        "id": "Bpw_LTmka20J"
      },
      "outputs": [],
      "source": [
        "# Instruction: write a function thats returns the complement in a given sequence.\n",
        "def ___(___):   ### replace the 1st ____ with a function name, 2nd with a sensible name for the argument\n",
        "    \"\"\"docstring describing the function\"\"\"\n",
        "    return ____ ### replace the ____"
      ]
    },
    {
      "cell_type": "markdown",
      "metadata": {
        "id": "I1abzZ3ka20K"
      },
      "source": [
        "Now use the `complement` function to check the complements of the following sequences\n",
        "\n",
        "* `A`\n",
        "* `AT`\n",
        "* `ATGC`\n",
        "* `CTGCTATAAAAGGCTG`\n",
        "\n",
        "You might want to use\n",
        "http://arep.med.harvard.edu/labgc/adnan/projects/Utilities/revcomp.htm\n",
        "for an additional check."
      ]
    },
    {
      "cell_type": "code",
      "execution_count": null,
      "metadata": {
        "id": "IbXZQoZha20K"
      },
      "outputs": [],
      "source": [
        "# Instruction: use the complement function to check the sequences\n",
        "# have their expected complements"
      ]
    },
    {
      "cell_type": "markdown",
      "metadata": {
        "id": "63qi0EIWa20K"
      },
      "source": [
        "> **Note in jupyter notebook you have to run a cell for the kernel**\n",
        "> **to process it. So if you make a change to your `complement` function**\n",
        "> **make sure you run the cell before testing it again.**\n",
        "> **This can be confusing! Ask for help if you are baffled!**"
      ]
    },
    {
      "cell_type": "markdown",
      "metadata": {
        "id": "IRbRvWCLa20K"
      },
      "source": [
        "Is the help message for the `complement` function reasonable?\n",
        "Imagine you are a user of the function who cannot read the source code.\n",
        "\n",
        "Check the help message:"
      ]
    },
    {
      "cell_type": "code",
      "execution_count": null,
      "metadata": {
        "id": "GpLLGXBja20K"
      },
      "outputs": [],
      "source": [
        "# Instruction: run this cell to check help message for complement\n",
        "help(complement)"
      ]
    },
    {
      "cell_type": "markdown",
      "metadata": {
        "id": "H-zyxHe1a20L"
      },
      "source": [
        "Now go on and create a `reverse_complement` function to work out the reverse complement of a DNA sequence"
      ]
    },
    {
      "cell_type": "code",
      "execution_count": null,
      "metadata": {
        "id": "LmmL1ukKa20L"
      },
      "outputs": [],
      "source": [
        "# Instruction: write a reverse_complement function"
      ]
    },
    {
      "cell_type": "code",
      "execution_count": null,
      "metadata": {
        "id": "YH-rXazQa20L"
      },
      "outputs": [],
      "source": [
        "# Instruction: test your reverse_complement function"
      ]
    },
    {
      "cell_type": "markdown",
      "metadata": {
        "id": "dZmWR3U5a20L"
      },
      "source": [
        "In writing your `reverse_complement` function have you copy and pasted the `complement` function?\n",
        "\n",
        "What happens if we need to handle RNA sequences that have the base U (with the complement A)? Would you need to edit both the `complement` and `reverse_complement` functions.\n",
        "\n",
        "If you answered yes then think again and rewrite the `reverse_complement` function so that it calls the `complement` function."
      ]
    },
    {
      "cell_type": "code",
      "execution_count": null,
      "metadata": {
        "id": "qlNx2DCba20L"
      },
      "outputs": [],
      "source": [
        "# Instruction: rewritten reverse complement function"
      ]
    },
    {
      "cell_type": "markdown",
      "metadata": {
        "id": "pEfj1-Z1a20M"
      },
      "source": [
        "and test the rewritten:"
      ]
    },
    {
      "cell_type": "code",
      "execution_count": null,
      "metadata": {
        "id": "KVXEp7Lya20M"
      },
      "outputs": [],
      "source": []
    },
    {
      "cell_type": "markdown",
      "metadata": {
        "id": "3iDPco4Ba20M"
      },
      "source": [
        "Now replace the `complement` function with an extension that deals with RNA base U that has the complement A."
      ]
    },
    {
      "cell_type": "code",
      "execution_count": null,
      "metadata": {
        "id": "DXNrWJoEa20M"
      },
      "outputs": [],
      "source": [
        "# Instruction: extended complement function"
      ]
    },
    {
      "cell_type": "markdown",
      "metadata": {
        "id": "9dRbtDsGa20N"
      },
      "source": [
        "Show that the `complement` and `reverse_complement` function work as expected for the following case.\n",
        "* the RNA sequence: `UUUCG`\n",
        "* ... has complement: `AAAGC` and\n",
        "* .. has reverse complement `CGAAA`"
      ]
    },
    {
      "cell_type": "code",
      "execution_count": null,
      "metadata": {
        "id": "lEqd_xDHa20N"
      },
      "outputs": [],
      "source": [
        "# Instruction: test complement and reverse_complement\n",
        "# for RNA sequence UUCG"
      ]
    },
    {
      "cell_type": "markdown",
      "metadata": {
        "id": "lC94v_X4a20N"
      },
      "source": [
        "**Notice** that by avoiding cut-and-paste we can avoid having to make the same change in two places of code."
      ]
    },
    {
      "cell_type": "markdown",
      "metadata": {
        "id": "W616oG2aa20N"
      },
      "source": [
        "## functions with default arguments\n",
        "\n",
        "These can be really useful to provide **default arguments** to functions. Lets start with an example:"
      ]
    },
    {
      "cell_type": "code",
      "execution_count": null,
      "metadata": {
        "id": "zxxAk-lQa20V"
      },
      "outputs": [],
      "source": [
        "# Instruction: run this cell so the kernel has the log_entry definition\n",
        "def log_entry(name, status='worker'):\n",
        "    print('LOG ENTRY name:\"{}\" status:\"{}\"'.format(name, status))"
      ]
    },
    {
      "cell_type": "markdown",
      "metadata": {
        "id": "-wsYjjkFa20V"
      },
      "source": [
        "If we call log_entry with a single argument then the `status` will be `worker`:"
      ]
    },
    {
      "cell_type": "code",
      "execution_count": null,
      "metadata": {
        "id": "Ym9-keWIa20V"
      },
      "outputs": [],
      "source": [
        "# Instruction: run this cell to see result of calling log_entry with a single argument\n",
        "log_entry('Jasmine Begum')"
      ]
    },
    {
      "cell_type": "markdown",
      "metadata": {
        "id": "jFcffn9ta20W"
      },
      "source": [
        "But if Jasmine brought a visitor:"
      ]
    },
    {
      "cell_type": "code",
      "execution_count": null,
      "metadata": {
        "id": "WSCrehvfa20W"
      },
      "outputs": [],
      "source": [
        "# Instruction: run this cell to see override of the default\n",
        "log_entry('John Brown', status='visitor')"
      ]
    },
    {
      "cell_type": "markdown",
      "metadata": {
        "id": "qVxgZhKSa20W"
      },
      "source": [
        "Log the entry of\n",
        "* Tom Singh whose status is 'security'\n",
        "* Burglar whose status is 'intruder'.\n",
        "* Alice Clarke who works here."
      ]
    },
    {
      "cell_type": "code",
      "execution_count": null,
      "metadata": {
        "id": "Gy69a6dSa20a"
      },
      "outputs": [],
      "source": [
        "# Instruction: call log_entry to log the 3 entries"
      ]
    },
    {
      "cell_type": "markdown",
      "metadata": {
        "id": "_gV5m1FHa20b"
      },
      "source": [
        "Finally note that we can call log_entry using parameter names\n",
        "for all arguments:"
      ]
    },
    {
      "cell_type": "code",
      "execution_count": null,
      "metadata": {
        "id": "nOlIfsE9a20b"
      },
      "outputs": [],
      "source": [
        "log_entry(name='Field Mouse')\n",
        "log_entry(name='Green Frog', status='wildlife')\n",
        "log_entry(status='unknown', name='Brown Bear')\n",
        "log_entry('Fred Flintstone', 'cartoon character') # using 2 positional arguments"
      ]
    },
    {
      "cell_type": "markdown",
      "metadata": {
        "id": "jRvikyCUa20b"
      },
      "source": [
        "**TIP:** For functions with loads of parameters it is normally much clearer to use parameter names rather than positional arguments as the code produced is much easier to read."
      ]
    },
    {
      "cell_type": "markdown",
      "metadata": {
        "id": "yoeIdBNQa20c"
      },
      "source": [
        "Returning to the complement and reverse complement procedures it could be simplification to define a single function:"
      ]
    },
    {
      "cell_type": "code",
      "execution_count": null,
      "metadata": {
        "id": "1NJaJnHOa20c"
      },
      "outputs": [],
      "source": [
        "# Instruction: complete the new complement fn. with reverse argument\n",
        "def complement(sequence, reverse=False):\n",
        "    \"\"\"your docstring describing the complement\"\"\"\n",
        "    pass ### replace this line with your code"
      ]
    },
    {
      "cell_type": "markdown",
      "metadata": {
        "id": "eh1zVPo_a20c"
      },
      "source": [
        "To use the new complement function we can call either without a reverse argument for the normal forward complement or with `reverse=True` to get the reverse complement."
      ]
    },
    {
      "cell_type": "code",
      "execution_count": null,
      "metadata": {
        "id": "wOF9-s43a20c"
      },
      "outputs": [],
      "source": [
        "test_seq = 'AAAG'\n",
        "test_comp = complement(test_seq)\n",
        "test_rev_comp = complement(test_seq, reverse=True)\n",
        "print('test_seq={} complement={} reverse_complement={}'.\n",
        "      format(test_seq, test_comp, test_rev_comp))"
      ]
    },
    {
      "cell_type": "markdown",
      "metadata": {
        "id": "vxdS7BTDa20d"
      },
      "source": [
        "### Optional exercise: deal with RNA sequences properly\n",
        "\n",
        "> *Have a go at this **if you have time**.*\n",
        "\n",
        "What result does your complement function give for the input\n",
        "RNA sequence `AAAUUU`?"
      ]
    },
    {
      "cell_type": "code",
      "execution_count": null,
      "metadata": {
        "id": "GvNj1u98a20d"
      },
      "outputs": [],
      "source": [
        "rna2 = 'AAAUUU'\n",
        "print(rna2, ' complement: ', complement(rna2))"
      ]
    },
    {
      "cell_type": "markdown",
      "metadata": {
        "id": "e0F49MFJa20d"
      },
      "source": [
        "The complement sequence `TTTAAA` returned is a DNA sequence but is this what is wanted? An RNA sequence (with **`U`**s in place of **`T`s**) might make more sense? We cannot be sure and need to know whether the user wants a DNA or RNA sequence..\n",
        "\n",
        "So write a new function `rna_complement` that returns an RNA sequence given an input DNA or RNA sequence.\n",
        "N.B. do not copy and paste your existing complement function to do this!"
      ]
    },
    {
      "cell_type": "code",
      "execution_count": null,
      "metadata": {
        "id": "OrahEbq5a20d"
      },
      "outputs": [],
      "source": [
        "# Instruction: write rna_complement function\n",
        "def rna_complement(sequence, reverse=False):\n",
        "    \"\"\"your docstring describing rna_complement\"\"\"\n",
        "    pass ### replace this line with your code"
      ]
    },
    {
      "cell_type": "code",
      "execution_count": null,
      "metadata": {
        "id": "GgsrFhbsa20e"
      },
      "outputs": [],
      "source": [
        "# Instruction: your test rna_complement function by running this cell.\n",
        "test_rna         = 'AUGC'\n",
        "given_complement = 'UACG'\n",
        "given_reverse_c  = 'GCAU'\n",
        "print('test rna_complement(test_rna): ', end='')\n",
        "if rna_complement(test_rna) == given_complement:\n",
        "    print('TEST PASS')\n",
        "else:\n",
        "    print('TEST FAIL')\n",
        "\n",
        "print('test rna_complement(test_rna, reverse=True): ', end='')\n",
        "if rna_complement(test_rna, reverse=True) == given_reverse_c:\n",
        "    print('TEST PASS')\n",
        "else:\n",
        "    print('TEST FAIL')"
      ]
    },
    {
      "cell_type": "markdown",
      "metadata": {
        "id": "uRml9IoPa20e"
      },
      "source": [
        "**Notice** that we can reuse the complement function without copy paste!\n",
        "\n",
        "Question: an alternative to having a seperate rna_complement function would\n",
        "be to extend the `complement` function introducing a new optional argument `rna_result=False`.\n",
        "Do you think this would be better?"
      ]
    },
    {
      "cell_type": "markdown",
      "metadata": {
        "id": "gnjXSivJa20e"
      },
      "source": [
        "### Optional exercise: deal with lower case letters in sequences\n",
        "\n",
        "Suppose we want to deal with DNA sequences with lower case letters like:\n",
        "```\n",
        "tata_oligo = 'ctgcTATAAAaggctg'\n",
        "```\n",
        "the complement sequence should preserve the upper/lower case for each letter.\n",
        "So our sequence:\n",
        "```\n",
        "tata_oligo = 'ctgcTATAAAaggctg'\n",
        "tata_compl = 'gacgATATTTtccgac'\n",
        "```\n",
        "\n",
        "(See https://www.bioinformatics.org/sms/rev_comp.html for a tool that does this).\n",
        "\n",
        "What happens with our current complement function"
      ]
    },
    {
      "cell_type": "code",
      "execution_count": null,
      "metadata": {
        "id": "4EHDW5gma20f"
      },
      "outputs": [],
      "source": [
        "# Instruction: test current complement\n",
        "tata_oligo = 'ctgcTATAAAaggctg'\n",
        "tata_compl = complement(tata_oligo)\n",
        "print('tata_oligo =' + tata_oligo)\n",
        "print('tata_compl =' + tata_compl)"
      ]
    },
    {
      "cell_type": "markdown",
      "metadata": {
        "id": "BIgkVBmJa20g"
      },
      "source": [
        "Question: what does the current `complement` function do with lower case?\n",
        "\n",
        "Answer: **edit your answer here**"
      ]
    },
    {
      "cell_type": "markdown",
      "metadata": {
        "id": "eSDkpE_za20g"
      },
      "source": [
        "How can you fix the procedure?\n",
        "\n",
        "Hint: possible solutions:\n",
        "* use a for loop to go through the sequence and substitute letter by letter\n",
        "* use the Python translate method as explained at https://www.tutorialspoint.com/python/string_translate.htm and demonstrated here."
      ]
    },
    {
      "cell_type": "code",
      "execution_count": null,
      "metadata": {
        "id": "oo_6ENd1a20g"
      },
      "outputs": [],
      "source": [
        "# Instruction: run this cell for a demonstration of\n",
        "# String translate in Python3\n",
        "# want to replace all a's with 1, all b's to 2,\n",
        "# all c's to 3, all d's to 4. Leaving all other characters alone\n",
        "work_on_chars = 'abcd'\n",
        "translate__to = '1234'\n",
        "abcd_to_1234 = str.maketrans(work_on_chars,translate__to)\n",
        "test_string = 'abcdefg. The quick brown fox jumps over the lazy dog!'\n",
        "translate_string = test_string.translate(abcd_to_1234)\n",
        "print(translate_string)"
      ]
    },
    {
      "cell_type": "code",
      "execution_count": null,
      "metadata": {
        "id": "9EuCkX-5a20h"
      },
      "outputs": [],
      "source": [
        "# Instruction: produce a complement function that preserves\n",
        "# the upper/lower case of the input sequence.\n",
        "def complement(sequence, reverse=False, rna=False):\n",
        "    \"\"\"your docstring describing the complement\"\"\"\n",
        "    pass ### replace this line with your code"
      ]
    },
    {
      "cell_type": "code",
      "execution_count": null,
      "metadata": {
        "id": "AQkETMBqa20i"
      },
      "outputs": [],
      "source": [
        "# Instruction: test new complement function.\n",
        "tata_oligo = 'ctgcTATAAAaggctg'\n",
        "know_compl = 'gacgATATTTtccgac'\n",
        "tata_compl = complement(tata_oligo)\n",
        "print('tata_oligo =' + tata_oligo)\n",
        "print('tata_compl =' + tata_compl)\n",
        "if tata_compl != know_compl:\n",
        "    print('error!')\n",
        "else:\n",
        "    print('test passes')"
      ]
    },
    {
      "cell_type": "markdown",
      "metadata": {
        "id": "a6ccQlaWa20i"
      },
      "source": [
        "### Optional exercise: deal with Ambiguity codes\n",
        "\n",
        "> *Have a go at this **if you have time**.*\n",
        "\n",
        "* See http://reverse-complement.com/ambiguity.html\n",
        "* extend your code to deal with ambituity codes in DNA sequences.\n",
        "* compare results against http://reverse-complement.com/ and http://arep.med.harvard.edu/labgc/adnan/projects/Utilities/revcomp.html\n",
        "* here is a test"
      ]
    },
    {
      "cell_type": "code",
      "execution_count": null,
      "metadata": {
        "id": "L26JmCk6a20i"
      },
      "outputs": [],
      "source": [
        "# test sequence of all lower and upper case letters\n",
        "import string\n",
        "letters = string.ascii_letters\n",
        "# from http://reverse-complement.com/\n",
        "# reverse complement of:\n",
        "# abcdefghijklmnopqrstuvwxyzABCDEFGHIJKLMNOPQRSTUVWXYZ\n",
        "# is:\n",
        "# ZRXWBAASYQPONKLMJIDCFEHGVTzrxwbaasyqponklmjidcfehgvt\n",
        "expect = 'ZRXWBAASYQPONKLMJIDCFEHGVTzrxwbaasyqponklmjidcfehgvt'\n",
        "print('test reverse complement of all ascii letters')\n",
        "print('input:  ', letters)\n",
        "print('expect: ', expect)\n",
        "get = complement(sequence=letters, reverse=True)\n",
        "print('get:    ', get)\n",
        "if get == expect:\n",
        "    print('TEST PASSES')\n",
        "else:\n",
        "    print('TEST FAILS')"
      ]
    },
    {
      "cell_type": "markdown",
      "metadata": {
        "id": "Emlztsq-a20j"
      },
      "source": [
        "## Homework E: Write your own functions\n",
        "Now go on and complete the **homework_E.ipynb** workbook"
      ]
    },
    {
      "cell_type": "code",
      "execution_count": null,
      "metadata": {
        "id": "3XY8-3cza20j"
      },
      "outputs": [],
      "source": []
    }
  ],
  "metadata": {
    "kernelspec": {
      "display_name": "Python 3",
      "language": "python",
      "name": "python3"
    },
    "language_info": {
      "codemirror_mode": {
        "name": "ipython",
        "version": 3
      },
      "file_extension": ".py",
      "mimetype": "text/x-python",
      "name": "python",
      "nbconvert_exporter": "python",
      "pygments_lexer": "ipython3",
      "version": "3.7.1"
    },
    "colab": {
      "provenance": [],
      "include_colab_link": true
    }
  },
  "nbformat": 4,
  "nbformat_minor": 0
}