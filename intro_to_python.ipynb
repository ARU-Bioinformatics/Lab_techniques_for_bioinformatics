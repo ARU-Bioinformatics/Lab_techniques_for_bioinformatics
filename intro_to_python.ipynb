{
  "cells": [
    {
      "cell_type": "markdown",
      "metadata": {
        "id": "view-in-github",
        "colab_type": "text"
      },
      "source": [
        "<a href=\"https://colab.research.google.com/github/ARU-Bioinformatics/Lab_techniques_for_bioinformatics/blob/main/intro_to_python.ipynb\" target=\"_parent\"><img src=\"https://colab.research.google.com/assets/colab-badge.svg\" alt=\"Open In Colab\"/></a>"
      ]
    },
    {
      "cell_type": "markdown",
      "id": "7022a965",
      "metadata": {
        "id": "7022a965"
      },
      "source": [
        "#An explainer of basic python commands for bioinformatics\n",
        "### Dr Timothy Hearn"
      ]
    },
    {
      "cell_type": "markdown",
      "id": "5c50dfd9",
      "metadata": {
        "id": "5c50dfd9"
      },
      "source": [
        "Python is a high-level, interpreted programming language that is widely used for general-purpose programming. Here is a list of some basic commands in Python along with example code and some exercises for you to complete."
      ]
    },
    {
      "cell_type": "markdown",
      "id": "2935b375",
      "metadata": {
        "id": "2935b375"
      },
      "source": [
        "## Printing to the console"
      ]
    },
    {
      "cell_type": "code",
      "execution_count": null,
      "id": "4952732f",
      "metadata": {
        "id": "4952732f"
      },
      "outputs": [],
      "source": [
        "print(\"Hello, World!\")"
      ]
    },
    {
      "cell_type": "markdown",
      "id": "668e153d",
      "metadata": {
        "id": "668e153d"
      },
      "source": [
        "Exercise: Print your name to the console."
      ]
    },
    {
      "cell_type": "code",
      "execution_count": null,
      "id": "577c9152",
      "metadata": {
        "id": "577c9152"
      },
      "outputs": [],
      "source": []
    },
    {
      "cell_type": "markdown",
      "id": "b7a53eb5",
      "metadata": {
        "id": "b7a53eb5"
      },
      "source": [
        "## Variables"
      ]
    },
    {
      "cell_type": "code",
      "execution_count": null,
      "id": "1501142e",
      "metadata": {
        "id": "1501142e"
      },
      "outputs": [],
      "source": [
        "name = \"Tim Hearn\"\n",
        "print(name)"
      ]
    },
    {
      "cell_type": "markdown",
      "id": "c0586e01",
      "metadata": {
        "id": "c0586e01"
      },
      "source": [
        "Exercise: Create a variable called age and assign it a value of your age. Then, print the value of age to the console."
      ]
    },
    {
      "cell_type": "code",
      "execution_count": null,
      "id": "d16a03f5",
      "metadata": {
        "id": "d16a03f5"
      },
      "outputs": [],
      "source": []
    },
    {
      "cell_type": "markdown",
      "id": "4d51d2ba",
      "metadata": {
        "id": "4d51d2ba"
      },
      "source": [
        "## Data Types"
      ]
    },
    {
      "cell_type": "code",
      "execution_count": null,
      "id": "78528638",
      "metadata": {
        "id": "78528638"
      },
      "outputs": [],
      "source": [
        "name = \"Tim Hearn\"\n",
        "age = 32\n",
        "is_male = True"
      ]
    },
    {
      "cell_type": "markdown",
      "id": "5c9f48a2",
      "metadata": {
        "id": "5c9f48a2"
      },
      "source": [
        "Exercise: Create a variable height and assign it a value of your height (in meters). Then, print the value of height to the console."
      ]
    },
    {
      "cell_type": "code",
      "execution_count": null,
      "id": "44141c79",
      "metadata": {
        "id": "44141c79"
      },
      "outputs": [],
      "source": []
    },
    {
      "cell_type": "markdown",
      "id": "6adea739",
      "metadata": {
        "id": "6adea739"
      },
      "source": [
        "## Lists"
      ]
    },
    {
      "cell_type": "code",
      "execution_count": null,
      "id": "ae4cc246",
      "metadata": {
        "id": "ae4cc246"
      },
      "outputs": [],
      "source": [
        "names = [\"John\", \"Jane\", \"Jim\"]\n",
        "print(names)"
      ]
    },
    {
      "cell_type": "markdown",
      "id": "733b07af",
      "metadata": {
        "id": "733b07af"
      },
      "source": [
        "Exercise: Create a list called ages and assign it the values of the ages of 3 friends. Then, print the list to the console."
      ]
    },
    {
      "cell_type": "code",
      "execution_count": null,
      "id": "c4627dac",
      "metadata": {
        "id": "c4627dac"
      },
      "outputs": [],
      "source": []
    },
    {
      "cell_type": "markdown",
      "id": "9e8e026f",
      "metadata": {
        "id": "9e8e026f"
      },
      "source": [
        "## For Loops"
      ]
    },
    {
      "cell_type": "code",
      "execution_count": null,
      "id": "93db8534",
      "metadata": {
        "id": "93db8534"
      },
      "outputs": [],
      "source": [
        "names = [\"John\", \"Jane\", \"Jim\"]\n",
        "for name in names:\n",
        "  print(name)"
      ]
    },
    {
      "cell_type": "markdown",
      "id": "0f045365",
      "metadata": {
        "id": "0f045365"
      },
      "source": [
        "Exercise: Write a for loop that prints the numbers from 1 to 10."
      ]
    },
    {
      "cell_type": "code",
      "execution_count": null,
      "id": "3e7903e5",
      "metadata": {
        "id": "3e7903e5"
      },
      "outputs": [],
      "source": []
    },
    {
      "cell_type": "markdown",
      "id": "925df084",
      "metadata": {
        "id": "925df084"
      },
      "source": [
        "## If Statements"
      ]
    },
    {
      "cell_type": "code",
      "execution_count": null,
      "id": "3695b1c7",
      "metadata": {
        "id": "3695b1c7"
      },
      "outputs": [],
      "source": [
        "age = 30\n",
        "if age > 18:\n",
        "  print(\"You are an adult.\")\n",
        "else:\n",
        "  print(\"You are a minor.\")"
      ]
    },
    {
      "cell_type": "markdown",
      "id": "dfd3d23f",
      "metadata": {
        "id": "dfd3d23f"
      },
      "source": [
        "Exercise: Write an if-else statement that prints \"You are tall.\" if a person's height is greater than 1.75 meters, and \"You are short.\" if a person's height is less than 1.75 meters."
      ]
    },
    {
      "cell_type": "code",
      "execution_count": null,
      "id": "c083ae38",
      "metadata": {
        "id": "c083ae38"
      },
      "outputs": [],
      "source": []
    },
    {
      "cell_type": "markdown",
      "id": "33e06e63",
      "metadata": {
        "id": "33e06e63"
      },
      "source": [
        "## Functions"
      ]
    },
    {
      "cell_type": "code",
      "execution_count": null,
      "id": "b7a559c4",
      "metadata": {
        "id": "b7a559c4"
      },
      "outputs": [],
      "source": [
        "def greet(name):\n",
        "  print(\"Hello, \" + name + \"!\")\n",
        "\n",
        "greet(\"John\")"
      ]
    },
    {
      "cell_type": "markdown",
      "id": "f4ec289f",
      "metadata": {
        "id": "f4ec289f"
      },
      "source": [
        "Exercise: Write a function that takes in a list of numbers and returns the sum of the numbers."
      ]
    },
    {
      "cell_type": "code",
      "execution_count": null,
      "id": "9dc736fe",
      "metadata": {
        "id": "9dc736fe"
      },
      "outputs": [],
      "source": []
    },
    {
      "cell_type": "markdown",
      "id": "9a423ce0",
      "metadata": {
        "id": "9a423ce0"
      },
      "source": [
        "This is just a brief introduction to some of the basic commands in Python. If you have no interest in learning a programming language here stop reading. If you want to go further we can get started on your journey to learning Python!\n",
        "Once you have a solid understanding of the basic commands in Python, the next step is to learn more advanced concepts and techniques to help you write more complex programs.\n",
        "Lists and dictionaries are two important data structures in Python."
      ]
    },
    {
      "cell_type": "markdown",
      "id": "0c01871e",
      "metadata": {
        "id": "0c01871e"
      },
      "source": [
        "## Lists\n",
        "A list is an ordered collection of items that can be of any data type, including other lists. Lists are defined by square brackets [] and items are separated by commas. Here is an example:"
      ]
    },
    {
      "cell_type": "code",
      "execution_count": null,
      "id": "0b36dd65",
      "metadata": {
        "id": "0b36dd65"
      },
      "outputs": [],
      "source": [
        "names = [\"John\", \"Jane\", \"Jim\"]\n",
        "print(names)"
      ]
    },
    {
      "cell_type": "markdown",
      "id": "35d1d02b",
      "metadata": {
        "id": "35d1d02b"
      },
      "source": [
        "Exercise: Create a list called numbers and assign it the values 1, 2, 3, 4, and 5. Then, print the list to the console."
      ]
    },
    {
      "cell_type": "code",
      "execution_count": null,
      "id": "fcb9ca64",
      "metadata": {
        "id": "fcb9ca64"
      },
      "outputs": [],
      "source": []
    },
    {
      "cell_type": "markdown",
      "id": "c94d4e77",
      "metadata": {
        "id": "c94d4e77"
      },
      "source": [
        "You can access the items in a list by their index, which starts at 0. Here is an example:"
      ]
    },
    {
      "cell_type": "code",
      "execution_count": null,
      "id": "0d0431bd",
      "metadata": {
        "id": "0d0431bd"
      },
      "outputs": [],
      "source": [
        "names = [\"John\", \"Jane\", \"Jim\"]\n",
        "print(names[0]) # \"John\""
      ]
    },
    {
      "cell_type": "markdown",
      "id": "62e37ca9",
      "metadata": {
        "id": "62e37ca9"
      },
      "source": [
        "Exercise: Access the third item in the numbers list from the previous exercise and print it to the console."
      ]
    },
    {
      "cell_type": "code",
      "execution_count": null,
      "id": "5a27d491",
      "metadata": {
        "id": "5a27d491"
      },
      "outputs": [],
      "source": []
    },
    {
      "cell_type": "markdown",
      "id": "0cb7b11b",
      "metadata": {
        "id": "0cb7b11b"
      },
      "source": [
        "You can also modify items in a list by assigning a new value to a specific index:"
      ]
    },
    {
      "cell_type": "code",
      "execution_count": null,
      "id": "890cbb10",
      "metadata": {
        "id": "890cbb10"
      },
      "outputs": [],
      "source": [
        "names = [\"John\", \"Jane\", \"Jim\"]\n",
        "names[1] = \"Janet\"\n",
        "print(names) # [\"John\", \"Janet\", \"Jim\"]"
      ]
    },
    {
      "cell_type": "markdown",
      "id": "36c4fcf5",
      "metadata": {
        "id": "36c4fcf5"
      },
      "source": [
        "Exercise: Replace the second item in the numbers list from the first exercise with the value 6 and print the updated list to the console."
      ]
    },
    {
      "cell_type": "code",
      "execution_count": null,
      "id": "8415f63d",
      "metadata": {
        "id": "8415f63d"
      },
      "outputs": [],
      "source": []
    },
    {
      "cell_type": "markdown",
      "id": "ce1b2593",
      "metadata": {
        "id": "ce1b2593"
      },
      "source": [
        "## Dictionaries\n",
        "A dictionary is an unordered collection of key-value pairs. The keys must be unique and are used to access the corresponding values. Dictionaries are defined by curly braces {} and key-value pairs are separated by colons. Here is an example:"
      ]
    },
    {
      "cell_type": "code",
      "execution_count": null,
      "id": "fa12c14f",
      "metadata": {
        "id": "fa12c14f"
      },
      "outputs": [],
      "source": [
        "person = {\n",
        "  \"name\": \"John Doe\",\n",
        "  \"age\": 30,\n",
        "  \"is_male\": True\n",
        "}\n",
        "print(person)"
      ]
    },
    {
      "cell_type": "markdown",
      "id": "151d5b4c",
      "metadata": {
        "id": "151d5b4c"
      },
      "source": [
        "Exercise: Create a dictionary called book and assign it the following key-value pairs: \"title\" with the value \"The Great Gatsby\", \"author\" with the value \"F. Scott Fitzgerald\", and \"pages\" with the value 180. Then, print the dictionary to the console."
      ]
    },
    {
      "cell_type": "code",
      "execution_count": null,
      "id": "41db8004",
      "metadata": {
        "id": "41db8004"
      },
      "outputs": [],
      "source": []
    },
    {
      "cell_type": "markdown",
      "id": "bc54ecdf",
      "metadata": {
        "id": "bc54ecdf"
      },
      "source": [
        "You can access the values in a dictionary using the keys:"
      ]
    },
    {
      "cell_type": "code",
      "execution_count": null,
      "id": "92b510e9",
      "metadata": {
        "id": "92b510e9"
      },
      "outputs": [],
      "source": [
        "person = {\n",
        "  \"name\": \"John Doe\",\n",
        "  \"age\": 30,\n",
        "  \"is_male\": True\n",
        "}\n",
        "print(person[\"name\"]) # \"John Doe\""
      ]
    },
    {
      "cell_type": "markdown",
      "id": "2ea74df7",
      "metadata": {
        "id": "2ea74df7"
      },
      "source": [
        "Exercise: Access the value of the \"author\" key in the book dictionary from the previous exercise and print it to the console."
      ]
    },
    {
      "cell_type": "code",
      "execution_count": null,
      "id": "47954dc1",
      "metadata": {
        "id": "47954dc1"
      },
      "outputs": [],
      "source": []
    },
    {
      "cell_type": "markdown",
      "id": "0ba60067",
      "metadata": {
        "id": "0ba60067"
      },
      "source": [
        "You can also modify the values in a dictionary by assigning a new value to a specific key:"
      ]
    },
    {
      "cell_type": "code",
      "execution_count": null,
      "id": "5c321ffb",
      "metadata": {
        "id": "5c321ffb"
      },
      "outputs": [],
      "source": [
        "person = {\n",
        "  \"name\": \"John Doe\",\n",
        "  \"age\": 30,\n",
        "  \"is_male\": True\n",
        "}\n",
        "person[\"age\"] = 31\n",
        "print(person) # {\"name\": \"John Doe\", \"age\": 31, \"is_male\": True}"
      ]
    },
    {
      "cell_type": "markdown",
      "id": "605b5eeb",
      "metadata": {
        "id": "605b5eeb"
      },
      "source": [
        "Exercise: Replace the value of the \"pages\" key in the book dictionary from the first exercise with the value 200 and print the updated dictionary to the console."
      ]
    },
    {
      "cell_type": "code",
      "execution_count": null,
      "id": "e97b44fe",
      "metadata": {
        "id": "e97b44fe"
      },
      "outputs": [],
      "source": []
    },
    {
      "cell_type": "markdown",
      "id": "9d36c0e4",
      "metadata": {
        "id": "9d36c0e4"
      },
      "source": [
        "These are the basics of lists and dictionaries in Python. They are powerful data structures that can help you solve a wide range of programming problems.\n"
      ]
    },
    {
      "cell_type": "markdown",
      "source": [
        "## File Input/Output\n",
        "File Input/Output (I/O) is an important aspect of programming as it allows you to read data from files and write data to files."
      ],
      "metadata": {
        "id": "X5VSRZ9_eTL5"
      },
      "id": "X5VSRZ9_eTL5"
    },
    {
      "cell_type": "markdown",
      "id": "10e26e94",
      "metadata": {
        "id": "10e26e94"
      },
      "source": [
        "## Reading Files\n",
        "You can read the contents of a file in Python using the open function. This function takes the file name as an argument and returns a file object that you can use to read the contents of the file. By default, the file is opened in read-only mode. Here is an example:"
      ]
    },
    {
      "cell_type": "code",
      "execution_count": null,
      "id": "560dd059",
      "metadata": {
        "id": "560dd059"
      },
      "outputs": [],
      "source": [
        "file = open(\"file.txt\")\n",
        "contents = file.read()\n",
        "print(contents)\n",
        "file.close()"
      ]
    },
    {
      "cell_type": "markdown",
      "id": "db77e310",
      "metadata": {
        "id": "db77e310"
      },
      "source": [
        "Exercise: Read the contents of a file called \"data.txt\" and print the contents to the console."
      ]
    },
    {
      "cell_type": "code",
      "execution_count": null,
      "id": "7062aafe",
      "metadata": {
        "id": "7062aafe"
      },
      "outputs": [],
      "source": []
    },
    {
      "cell_type": "markdown",
      "id": "bb75b35c",
      "metadata": {
        "id": "bb75b35c"
      },
      "source": [
        "You can also use the with statement to open files, which automatically takes care of closing the file for you, even if there is an error:"
      ]
    },
    {
      "cell_type": "code",
      "execution_count": null,
      "id": "0a24fe7c",
      "metadata": {
        "id": "0a24fe7c"
      },
      "outputs": [],
      "source": [
        "with open(\"file.txt\") as file:\n",
        "  contents = file.read()\n",
        "  print(contents)"
      ]
    },
    {
      "cell_type": "markdown",
      "id": "dd3b546f",
      "metadata": {
        "id": "dd3b546f"
      },
      "source": [
        "Exercise: Use the with statement to read the contents of a file called \"data.txt\" and print the contents to the console."
      ]
    },
    {
      "cell_type": "code",
      "execution_count": null,
      "id": "455776b0",
      "metadata": {
        "id": "455776b0"
      },
      "outputs": [],
      "source": []
    },
    {
      "cell_type": "markdown",
      "id": "a46fde3a",
      "metadata": {
        "id": "a46fde3a"
      },
      "source": [
        "## Writing Files\n",
        "You can write to a file in Python using the open function. You need to pass the \"w\" argument to open the file in write mode. Here is an example:"
      ]
    },
    {
      "cell_type": "code",
      "execution_count": null,
      "id": "4f0150f0",
      "metadata": {
        "id": "4f0150f0"
      },
      "outputs": [],
      "source": [
        "file = open(\"file.txt\", \"w\")\n",
        "file.write(\"Hello, World!\")\n",
        "file.close()"
      ]
    },
    {
      "cell_type": "markdown",
      "id": "25f81ab5",
      "metadata": {
        "id": "25f81ab5"
      },
      "source": [
        "Exercise: Write the text \"Data, data, everywhere\" to a file called \"output.txt\"."
      ]
    },
    {
      "cell_type": "code",
      "execution_count": null,
      "id": "203a3cce",
      "metadata": {
        "id": "203a3cce"
      },
      "outputs": [],
      "source": []
    },
    {
      "cell_type": "markdown",
      "id": "a3a12a8d",
      "metadata": {
        "id": "a3a12a8d"
      },
      "source": [
        "You can also use the with statement to write to files:"
      ]
    },
    {
      "cell_type": "code",
      "execution_count": null,
      "id": "40d52ad3",
      "metadata": {
        "id": "40d52ad3"
      },
      "outputs": [],
      "source": [
        "with open(\"file.txt\", \"w\") as file:\n",
        "  file.write(\"Hello, World!\")"
      ]
    },
    {
      "cell_type": "markdown",
      "id": "bdd6713e",
      "metadata": {
        "id": "bdd6713e"
      },
      "source": [
        "Exercise: Use the with statement to write the text \"Data, data, everywhere\" to a file called \"output.txt\"."
      ]
    },
    {
      "cell_type": "code",
      "execution_count": null,
      "id": "24f87193",
      "metadata": {
        "id": "24f87193"
      },
      "outputs": [],
      "source": []
    },
    {
      "cell_type": "markdown",
      "id": "887b1375",
      "metadata": {
        "id": "887b1375"
      },
      "source": [
        "These are the basics of file I/O in Python. By reading and writing files, you can persist data and use it across multiple runs of your program.\n",
        "Now we have a general idea lets use python to do some Bioinformatics"
      ]
    },
    {
      "cell_type": "markdown",
      "id": "da3c5595",
      "metadata": {
        "id": "da3c5595"
      },
      "source": [
        "## Variables and Data Types\n",
        "In genetics, it is common to store information such as DNA sequences and gene names as variables. Here are a few examples of how you can use variables in Python to store this type of information:"
      ]
    },
    {
      "cell_type": "code",
      "execution_count": null,
      "id": "006cc640",
      "metadata": {
        "id": "006cc640"
      },
      "outputs": [],
      "source": [
        "# store a DNA sequence as a string\n",
        "dna_sequence = \"ATGCAGTACGATCGATCGATCGATCGATCG\"\n",
        "\n",
        "# store a gene name as a string\n",
        "gene_name = \"BRCA1\"\n",
        "\n",
        "# store the length of a DNA sequence as an integer\n",
        "dna_length = len(dna_sequence)"
      ]
    },
    {
      "cell_type": "markdown",
      "id": "608c9bda",
      "metadata": {
        "id": "608c9bda"
      },
      "source": [
        "Exercise: Store the DNA sequence \"AGCTAGCTAGCTAGCTAGCT\" and the gene name \"TP53\" as variables. Calculate the length of the DNA sequence and store it as a variable."
      ]
    },
    {
      "cell_type": "code",
      "execution_count": null,
      "id": "de18b6c3",
      "metadata": {
        "id": "de18b6c3"
      },
      "outputs": [],
      "source": []
    },
    {
      "cell_type": "markdown",
      "id": "031a24ce",
      "metadata": {
        "id": "031a24ce"
      },
      "source": [
        "## Control Flow and Loops\n",
        "In genetics, you often need to compare DNA sequences or find specific patterns in the sequence. You can use control flow statements and loops in Python to do this. Here is an example of using an if statement to check if a DNA sequence contains a specific subsequence:"
      ]
    },
    {
      "cell_type": "code",
      "execution_count": null,
      "id": "2c0f41df",
      "metadata": {
        "id": "2c0f41df"
      },
      "outputs": [],
      "source": [
        "dna_sequence = \"ATGCAGTACGATCGATCGATCGATCGATCG\"\n",
        "\n",
        "# check if the sequence contains the subsequence \"ATG\"\n",
        "if \"ATG\" in dna_sequence:\n",
        "  print(\"Start codon found\")\n",
        "else:\n",
        "  print(\"Start codon not found\")"
      ]
    },
    {
      "cell_type": "markdown",
      "id": "b17f4c68",
      "metadata": {
        "id": "b17f4c68"
      },
      "source": [
        "Exercise: Write a program that checks if the DNA sequence \"AGCTAGCTAGCTAGCTAGCT\" contains the subsequence \"TGC\"."
      ]
    },
    {
      "cell_type": "code",
      "execution_count": null,
      "id": "48b759aa",
      "metadata": {
        "id": "48b759aa"
      },
      "outputs": [],
      "source": []
    },
    {
      "cell_type": "markdown",
      "id": "ee685360",
      "metadata": {
        "id": "ee685360"
      },
      "source": [
        "You can also use a for loop to iterate over the characters in a DNA sequence:"
      ]
    },
    {
      "cell_type": "code",
      "execution_count": null,
      "id": "7e8f2c8c",
      "metadata": {
        "id": "7e8f2c8c"
      },
      "outputs": [],
      "source": [
        "dna_sequence = \"ATGCAGTACGATCGATCGATCGATCGATCG\"\n",
        "\n",
        "# print each character in the sequence\n",
        "for base in dna_sequence:\n",
        "  print(base)"
      ]
    },
    {
      "cell_type": "markdown",
      "id": "7e387c5a",
      "metadata": {
        "id": "7e387c5a"
      },
      "source": [
        "Exercise: Write a program that calculates the number of times the base \"A\" appears in the DNA sequence \"AGCTAGCTAGCTAGCTAGCT\"."
      ]
    },
    {
      "cell_type": "code",
      "execution_count": null,
      "id": "333b16be",
      "metadata": {
        "id": "333b16be"
      },
      "outputs": [],
      "source": []
    },
    {
      "cell_type": "markdown",
      "id": "d943df69",
      "metadata": {
        "id": "d943df69"
      },
      "source": [
        "## Functions\n",
        "In genetics, you often need to perform the same operations on multiple DNA sequences. You can write functions in Python to encapsulate these operations and reuse them easily. Here is an example of a function that calculates the GC content of a DNA sequence:"
      ]
    },
    {
      "cell_type": "code",
      "execution_count": null,
      "id": "b1ca0795",
      "metadata": {
        "id": "b1ca0795"
      },
      "outputs": [],
      "source": [
        "def calculate_gc_content(dna_sequence):\n",
        "  gc_count = 0\n",
        "  for base in dna_sequence:\n",
        "    if base in \"GC\":\n",
        "      gc_count += 1\n",
        "  gc_content = gc_count / len(dna_sequence)\n",
        "  return gc_content\n",
        "\n",
        "dna_sequence = \"ATGCAGTACGATCGATCGATCGATCGATCG\"\n",
        "gc_content = calculate_gc_content(dna_sequence)\n",
        "print(gc_content)"
      ]
    },
    {
      "cell_type": "markdown",
      "id": "1228169e",
      "metadata": {
        "id": "1228169e"
      },
      "source": [
        "Exercise: Write a function that takes a DNA sequence as an argument and returns the reverse complement of the sequence."
      ]
    },
    {
      "cell_type": "code",
      "execution_count": null,
      "id": "139a2144",
      "metadata": {
        "id": "139a2144"
      },
      "outputs": [],
      "source": []
    },
    {
      "cell_type": "markdown",
      "id": "ac93eacc",
      "metadata": {
        "id": "ac93eacc"
      },
      "source": [
        "## Lists\n",
        "In genetics, you often need to store collections of related information, such as multiple DNA sequences or gene names and their corresponding sequences. You can use lists and dictionaries in Python to store this information. Here is an example of using a list to store multiple DNA sequences:"
      ]
    },
    {
      "cell_type": "code",
      "execution_count": null,
      "id": "a86c4650",
      "metadata": {
        "id": "a86c4650"
      },
      "outputs": [],
      "source": [
        "# store multiple DNA sequences in a list\n",
        "dna_sequences = [\"ATGCAGTACGATCGATCGATCGATCGATCG\", \"AGCTAGCTAGCTAGCTAGCT\", \"CGATCGATCGATCGATCGAT\"]\n",
        "\n",
        "# print each sequence in the list\n",
        "for dna_sequence in dna_sequences:\n",
        "  print(dna_sequence)"
      ]
    },
    {
      "cell_type": "markdown",
      "id": "08204c41",
      "metadata": {
        "id": "08204c41"
      },
      "source": [
        "Exercise: Add a new DNA sequence \"TGCATGCATGCATGCATGCA\" to the list dna_sequences."
      ]
    },
    {
      "cell_type": "code",
      "execution_count": null,
      "id": "ea1b8248",
      "metadata": {
        "id": "ea1b8248"
      },
      "outputs": [],
      "source": []
    },
    {
      "cell_type": "markdown",
      "id": "b4792197",
      "metadata": {
        "id": "b4792197"
      },
      "source": [
        "### Answer: Add a new DNA sequence \"TGCATGCATGCATGCATGCA\" to the list dna_sequences."
      ]
    },
    {
      "cell_type": "code",
      "execution_count": null,
      "id": "18d745a2",
      "metadata": {
        "id": "18d745a2"
      },
      "outputs": [],
      "source": [
        "dna_sequences = [\"ATGCAGTACGATCGATCGATCGATCGATCG\", \"AGCTAGCTAGCTAGCTAGCT\", \"CGATCGATCGATCGATCGAT\"]\n",
        "dna_sequences.append(\"TGCATGCATGCATGCATGCA\")\n",
        "print(dna_sequences)"
      ]
    },
    {
      "cell_type": "markdown",
      "id": "045827be",
      "metadata": {
        "id": "045827be"
      },
      "source": [
        "## Dictionaries\n",
        "Here is an example of using a dictionary to store gene names and their corresponding DNA sequences:"
      ]
    },
    {
      "cell_type": "code",
      "execution_count": null,
      "id": "630abfad",
      "metadata": {
        "id": "630abfad"
      },
      "outputs": [],
      "source": [
        "# store gene names and their sequences in a dictionary\n",
        "gene_sequences = {\"BRCA1\": \"ATGCAGTACGATCGATCGATCGATCGATCG\", \"TP53\": \"AGCTAGCTAGCTAGCTAGCT\", \"GENE3\": \"CGATCGATCGATCGATCGAT\"}\n",
        "\n",
        "# print each gene name and its corresponding sequence\n",
        "for gene_name, dna_sequence in gene_sequences.items():\n",
        "  print(gene_name, dna_sequence)"
      ]
    },
    {
      "cell_type": "markdown",
      "id": "c30d1620",
      "metadata": {
        "id": "c30d1620"
      },
      "source": [
        "Exercise: Add a new gene name \"GENE4\" and its corresponding DNA sequence \"TGCATGCATGCATGCATGCA\" to the dictionary gene_sequences."
      ]
    },
    {
      "cell_type": "code",
      "execution_count": null,
      "id": "7f49078b",
      "metadata": {
        "id": "7f49078b"
      },
      "outputs": [],
      "source": []
    },
    {
      "cell_type": "markdown",
      "id": "9b0556fd",
      "metadata": {
        "id": "9b0556fd"
      },
      "source": [
        "#### Answer: Add a new gene name \"GENE4\" and its corresponding DNA sequence \"TGCATGCATGCATGCATGCA\" to the dictionary gene_sequences."
      ]
    },
    {
      "cell_type": "code",
      "execution_count": null,
      "id": "a41de42d",
      "metadata": {
        "id": "a41de42d"
      },
      "outputs": [],
      "source": [
        "gene_sequences = {\"BRCA1\": \"ATGCAGTACGATCGATCGATCGATCGATCG\", \"TP53\": \"AGCTAGCTAGCTAGCTAGCT\", \"GENE3\": \"CGATCGATCGATCGATCGAT\"}\n",
        "gene_sequences[\"GENE4\"] = \"TGCATGCATGCATGCATGCA\"\n",
        "print(gene_sequences)"
      ]
    },
    {
      "cell_type": "markdown",
      "id": "cf338417",
      "metadata": {
        "id": "cf338417"
      },
      "source": [
        "## File I/O\n",
        "In genetics, you often need to read and write DNA sequences and gene information from and to files. You can use file I/O in Python to do this.\n",
        "##Reading\n",
        "Here is an example of reading a file containing a DNA sequence:"
      ]
    },
    {
      "cell_type": "code",
      "execution_count": null,
      "id": "4277c036",
      "metadata": {
        "id": "4277c036"
      },
      "outputs": [],
      "source": [
        "# read the contents of a file into a string\n",
        "with open(\"sequence.txt\", \"r\") as file:\n",
        "  dna_sequence = file.read()\n",
        "\n",
        "print(dna_sequence)"
      ]
    },
    {
      "cell_type": "markdown",
      "id": "8b1b5cc7",
      "metadata": {
        "id": "8b1b5cc7"
      },
      "source": [
        "Exercise: Write a program that reads a file containing multiple DNA sequences (sequences.txt) and stores them in a list."
      ]
    },
    {
      "cell_type": "code",
      "execution_count": null,
      "id": "98231353",
      "metadata": {
        "id": "98231353"
      },
      "outputs": [],
      "source": []
    },
    {
      "cell_type": "markdown",
      "id": "ddf787b3",
      "metadata": {
        "id": "ddf787b3"
      },
      "source": [
        "#### Answer: Write a program that reads a file containing multiple DNA sequences and stores them in a list."
      ]
    },
    {
      "cell_type": "code",
      "execution_count": null,
      "id": "cf41ca06",
      "metadata": {
        "id": "cf41ca06"
      },
      "outputs": [],
      "source": [
        "dna_sequences = []\n",
        "with open(\"sequences.txt\", \"r\") as file:\n",
        "  for line in file:\n",
        "    dna_sequences.append(line.strip())\n",
        "\n",
        "print(dna_sequences)"
      ]
    },
    {
      "cell_type": "markdown",
      "id": "74f9cd45",
      "metadata": {
        "id": "74f9cd45"
      },
      "source": [
        "## Writing\n",
        "Here is an example of writing a DNA sequence to a file:"
      ]
    },
    {
      "cell_type": "code",
      "execution_count": null,
      "id": "b88e8019",
      "metadata": {
        "id": "b88e8019"
      },
      "outputs": [],
      "source": [
        "dna_sequence = \"ATGCAGTACGATCGATCGATCGATCGATCG\"\n",
        "\n",
        "# write the string to a file\n",
        "with open(\"sequence.txt\", \"w\") as file:\n",
        "  file.write(dna_sequence)"
      ]
    },
    {
      "cell_type": "markdown",
      "id": "93b4b627",
      "metadata": {
        "id": "93b4b627"
      },
      "source": [
        "Exercise: Write a program that writes a list of DNA sequences to a file, one sequence per line."
      ]
    },
    {
      "cell_type": "code",
      "execution_count": null,
      "id": "c9516829",
      "metadata": {
        "id": "c9516829"
      },
      "outputs": [],
      "source": []
    },
    {
      "cell_type": "markdown",
      "id": "f3b87221",
      "metadata": {
        "id": "f3b87221"
      },
      "source": [
        "\n",
        "#### Answer: Write a program that writes a list of DNA sequences to a file, one sequence per line."
      ]
    },
    {
      "cell_type": "code",
      "execution_count": null,
      "id": "69c77b06",
      "metadata": {
        "id": "69c77b06"
      },
      "outputs": [],
      "source": [
        "dna_sequences = [\"ATGCAGTACGATCGATCGATCGATCGATCG\", \"AGCTAGCTAGCTAGCTAGCT\", \"CGATCGATCGATCGATCGAT\"]\n",
        "with open(\"sequences.txt\", \"w\") as file:\n",
        "  for dna_sequence in dna_sequences:\n",
        "    file.write(dna_sequence + \"\\n\")"
      ]
    },
    {
      "cell_type": "markdown",
      "id": "e1e0fbea",
      "metadata": {
        "id": "e1e0fbea"
      },
      "source": [
        "## Investigating genomic file formats\n",
        "Here’s a simple example of how Python can be used to investigate and analyse a VCF (Variant Call Format) file:"
      ]
    },
    {
      "cell_type": "code",
      "execution_count": null,
      "id": "f7859c2a",
      "metadata": {
        "id": "f7859c2a"
      },
      "outputs": [],
      "source": [
        "# read the contents of a VCF file into a list of strings\n",
        "with open(\"variants.vcf\", \"r\") as file:\n",
        "  variants = file.readlines()\n",
        "\n",
        "# iterate over each variant and print its information\n",
        "for variant in variants:\n",
        "  # skip comments\n",
        "  if variant.startswith(\"#\"):\n",
        "    continue\n",
        "\n",
        "  # split the line into columns\n",
        "  columns = variant.strip().split(\"\\t\")\n",
        "\n",
        "  # extract the chromosome, position, reference allele, and alternate allele\n",
        "  chromosome = columns[0]\n",
        "  position = columns[1]\n",
        "  reference = columns[3]\n",
        "  alternate = columns[4]\n",
        "\n",
        "  # print the extracted information\n",
        "  print(chromosome, position, reference, alternate)"
      ]
    },
    {
      "cell_type": "markdown",
      "id": "f6592c3f",
      "metadata": {
        "id": "f6592c3f"
      },
      "source": [
        "Exercise: Modify the program to count the number of variants with alternate alleles \"A\", \"C\", \"G\", and \"T\"."
      ]
    },
    {
      "cell_type": "code",
      "execution_count": null,
      "id": "4c6debfc",
      "metadata": {
        "id": "4c6debfc"
      },
      "outputs": [],
      "source": []
    },
    {
      "cell_type": "markdown",
      "id": "e7a23678",
      "metadata": {
        "id": "e7a23678"
      },
      "source": [
        "#### Answer: Modify the program to count the number of variants with alternate alleles \"A\", \"C\", \"G\", and \"T\"."
      ]
    },
    {
      "cell_type": "code",
      "execution_count": null,
      "id": "5bab609f",
      "metadata": {
        "id": "5bab609f"
      },
      "outputs": [],
      "source": [
        "allele_counts = {\"A\": 0, \"C\": 0, \"G\": 0, \"T\": 0}\n",
        "with open(\"variants.vcf\", \"r\") as file:\n",
        "  for line in file:\n",
        "    if line.startswith(\"#\"):\n",
        "      continue\n",
        "\n",
        "    columns = line.strip().split(\"\\t\")\n",
        "    alternate = columns[4]\n",
        "    if alternate in allele_counts:\n",
        "      allele_counts[alternate] += 1\n",
        "\n",
        "print(allele_counts)"
      ]
    },
    {
      "cell_type": "markdown",
      "id": "a4a1b0de",
      "metadata": {
        "id": "a4a1b0de"
      },
      "source": [
        "## Manipulating VCF with pandas\n",
        "You can also use Python libraries such as pandas to more easily read and manipulate VCF files:"
      ]
    },
    {
      "cell_type": "code",
      "execution_count": null,
      "id": "9fbedd3f",
      "metadata": {
        "id": "9fbedd3f"
      },
      "outputs": [],
      "source": [
        "import pandas as pd\n",
        "\n",
        "# read the VCF file into a pandas DataFrame\n",
        "variants = pd.read_table(\"variants.vcf\", comment=\"#\", header=None, low_memory=False, names=[\"CHROM\", \"POS\", \"ID\", \"REF\", \"ALT\", \"QUAL\", \"FILTER\", \"INFO\", \"FORMAT\", \"patient001\"])\n",
        "\n",
        "# count the number of variants with each alternate allele\n",
        "allele_counts = variants[\"ALT\"].value_counts()\n",
        "\n",
        "print(allele_counts)"
      ]
    },
    {
      "cell_type": "markdown",
      "id": "9aa90666",
      "metadata": {
        "id": "9aa90666"
      },
      "source": [
        "Exercise: Modify the program to only include variants with alternate alleles “C\" and \"G\"."
      ]
    },
    {
      "cell_type": "code",
      "execution_count": null,
      "id": "dd81008c",
      "metadata": {
        "id": "dd81008c"
      },
      "outputs": [],
      "source": []
    },
    {
      "cell_type": "markdown",
      "id": "ebfd7402",
      "metadata": {
        "id": "ebfd7402"
      },
      "source": [
        "#### Answer: Modify the program to only include variants with alternate alleles \"C\" and \"G\"."
      ]
    },
    {
      "cell_type": "code",
      "execution_count": null,
      "id": "a845343d",
      "metadata": {
        "id": "a845343d"
      },
      "outputs": [],
      "source": [
        "import pandas as pd\n",
        "\n",
        "variants = pd.read_table(\"variants.vcf\", header=None, comment=\"#\", low_memory=False, names=[\"CHROM\", \"POS\", \"ID\", \"REF\", \"ALT\", \"QUAL\", \"FILTER\", \"INFO\", \"FORMAT\", \"patient001\"])\n",
        "variants = variants[variants.ALT.isin([ \"C\", \"G\"])]\n",
        "print(variants)"
      ]
    },
    {
      "cell_type": "markdown",
      "id": "63b2d74d",
      "metadata": {
        "id": "63b2d74d"
      },
      "source": [
        "This code uses the pd.read_table() function from the pandas library to read the VCF file and store it as a data frame. The header=None argument means that the first row of the file is not considered as the header row, comment=\"#\" argument specifies that any line starting with \"#\" should be treated as a comment and ignored, and low_memory=False is to prevent any memory-related errors while reading large files. The names argument is used to specify the names of the columns.\n",
        "The line variants = variants[variants.alternate.isin([ \"C\", \"G\"])] filters the data frame to only include variants with alternate alleles \"C\" or \"G\". The isin() method from the pandas library is used to check if each value in the alternate column is in the list [\"C\", \"G\"]. The result of this operation is a new data frame with only the variants that pass the filter.\n",
        "Finally, the line print(variants) prints the filtered data frame."
      ]
    }
  ],
  "metadata": {
    "colab": {
      "provenance": [],
      "collapsed_sections": [
        "X5VSRZ9_eTL5",
        "b4792197",
        "9b0556fd",
        "f3b87221",
        "e7a23678",
        "ebfd7402"
      ],
      "include_colab_link": true
    },
    "language_info": {
      "name": "python"
    },
    "kernelspec": {
      "name": "python3",
      "display_name": "Python 3"
    },
    "gpuClass": "standard"
  },
  "nbformat": 4,
  "nbformat_minor": 5
}