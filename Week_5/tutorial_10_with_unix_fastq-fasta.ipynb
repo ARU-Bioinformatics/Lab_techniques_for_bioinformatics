{
  "nbformat": 4,
  "nbformat_minor": 0,
  "metadata": {
    "colab": {
      "provenance": [],
      "authorship_tag": "ABX9TyPt0dqD52yfpAlCqetxNiDI",
      "include_colab_link": true
    },
    "kernelspec": {
      "name": "python3",
      "display_name": "Python 3"
    },
    "language_info": {
      "name": "python"
    }
  },
  "cells": [
    {
      "cell_type": "markdown",
      "metadata": {
        "id": "view-in-github",
        "colab_type": "text"
      },
      "source": [
        "<a href=\"https://colab.research.google.com/github/ARU-Bioinformatics/Lab_techniques_for_bioinformatics/blob/main/Week_5/tutorial_10_with_unix_fastq-fasta.ipynb\" target=\"_parent\"><img src=\"https://colab.research.google.com/assets/colab-badge.svg\" alt=\"Open In Colab\"/></a>"
      ]
    },
    {
      "cell_type": "markdown",
      "source": [
        "# Converting between flatfiles with Unix: FASTQ -> FASTA"
      ],
      "metadata": {
        "id": "L1PTjUEFegHL"
      }
    },
    {
      "cell_type": "markdown",
      "source": [
        "The lecture notes give several different examples of how Unix commands can be used to convert between flat files. Unix has many GNU utilities that can be taken advantage of so that we do not have to program our own solution."
      ],
      "metadata": {
        "id": "PXXH_gAielQ2"
      }
    },
    {
      "cell_type": "markdown",
      "source": [
        "The command we are going to run needs to be executed on the Unix shell. To achieve this we prefix the start of our code with an `!` which tells the interpretter that this should be run on the command line. This Unix one-liner is an efficient way to perform the conversion from FASTQ to FASTA format, demonstrating the power of Unix commands for quick and effective text processing in bioinformatics."
      ],
      "metadata": {
        "id": "hESog0EFe_vw"
      }
    },
    {
      "cell_type": "code",
      "execution_count": 1,
      "metadata": {
        "id": "TIPkp4YYee_C"
      },
      "outputs": [],
      "source": [
        "! sed -n '1~4s/^@/>/p;2~4p' example.fastq > output.fasta"
      ]
    },
    {
      "cell_type": "markdown",
      "source": [
        "Components of the Command\n",
        "\n",
        "*  `sed`: This is the command for invoking the stream editor, which can perform basic text transformations on input from a file or a stream.\n",
        "\n",
        "*  `-n`: This option tells sed not to print anything unless explicitly asked to. This is because sed normally outputs all lines of input to standard output, but for this task, we only want to output the modified lines.\n",
        "\n",
        "*  `1~4s/^@/>/p;2 ~4p`: This is a set of instructions enclosed in single quotes telling sed what to do with the input text. This part is divided into instructions by semicolons (;).\n",
        "1.  Instruction 1: `1~4s/^@/>/p`\n",
        "  1.  `1~4`: This tells sed to apply the following command to every 4th line starting with line 1. The notation n ~ m is used for this, where n is the starting line and m is the step size. In FASTQ files, the first line of each entry (every 4th line starting from line 1) contains the sequence identifier preceded by an @ symbol, which needs to be changed to > for FASTA format.\n",
        "  2. `s/^@/>/`: This part uses the substitution command s. It looks for lines that start with `@` and replaces the `@` with `>`. This changes the FASTQ header to a FASTA header.\n",
        "  3. `p`: This tells sed to print the lines where the substitution has taken place. Without this, no lines would be printed due to the `-n` option.\n",
        "2.  Instruction 2: `2~4p`: This instruction tells sed to print every 4th line starting with line 2, without any modification. In FASTQ files, these are the nucleotide sequences we want to keep in the FASTA file.\n",
        "\n",
        "*  `example.fastq`: This specifies the input file to be processed by sed.\n",
        "\n",
        "*  `> output.fasta`: This redirects the output from sed to a file named output.fasta, effectively creating the FASTA file.\n",
        "\n",
        "## How It Works\n",
        "\n",
        "The command identifies every 4th line starting with the 1st line (which are headers in FASTQ format) and replaces the initial @ symbol with >, converting them into FASTA headers. These modified lines are then printed to the output.\n",
        "It also identifies every 4th line starting with the 2nd line (which are the nucleotide sequences in FASTQ format) and prints them to the output without modification.\n",
        "By skipping the 3rd and 4th lines of each FASTQ entry (the + line and the quality scores), the command effectively filters out the unnecessary information for FASTA format.\n",
        "The output, consisting of the converted headers and sequences, is then written to output.fasta.\n"
      ],
      "metadata": {
        "id": "HWYnGAuBfJpj"
      }
    }
  ]
}