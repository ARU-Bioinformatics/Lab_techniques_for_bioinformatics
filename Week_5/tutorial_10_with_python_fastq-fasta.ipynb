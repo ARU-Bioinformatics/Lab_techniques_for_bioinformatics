{
  "nbformat": 4,
  "nbformat_minor": 0,
  "metadata": {
    "colab": {
      "provenance": [],
      "authorship_tag": "ABX9TyPAqf3RmHtil82xWRamnOYx",
      "include_colab_link": true
    },
    "kernelspec": {
      "name": "python3",
      "display_name": "Python 3"
    },
    "language_info": {
      "name": "python"
    }
  },
  "cells": [
    {
      "cell_type": "markdown",
      "metadata": {
        "id": "view-in-github",
        "colab_type": "text"
      },
      "source": [
        "<a href=\"https://colab.research.google.com/github/ARU-Bioinformatics/Lab_techniques_for_bioinformatics/blob/main/Week_5/tutorial_10_with_python_fastq-fasta.ipynb\" target=\"_parent\"><img src=\"https://colab.research.google.com/assets/colab-badge.svg\" alt=\"Open In Colab\"/></a>"
      ]
    },
    {
      "cell_type": "markdown",
      "source": [
        "# Converting between flatfiles with Python: FASTQ -> FASTA"
      ],
      "metadata": {
        "id": "C5J_p_i2c6hB"
      }
    },
    {
      "cell_type": "markdown",
      "source": [
        "The lecture notes give several different examples of how Unix commands can be used to convert between flat files. However, ideally we would want to be able to achieve this in Python. Below is an exemplar piece of Python code designed for a Jupyter Notebook. This code converts a FASTQ file to a FASTA file, a common task in bioinformatics for manipulating sequence data files. FASTQ files are used for storing biological sequences (typically nucleotide sequences) along with their quality scores, whereas FASTA files store just the sequence identifiers and the sequences themselves without any quality score information.\n",
        "\n",
        "This code assumes you have a FASTQ file named example.fastq and will produce a FASTA file named output.fasta."
      ],
      "metadata": {
        "id": "F_5CayuhMyL3"
      }
    },
    {
      "cell_type": "code",
      "execution_count": 1,
      "metadata": {
        "colab": {
          "base_uri": "https://localhost:8080/"
        },
        "id": "m8nj53jKMxm0",
        "outputId": "9e11adc1-2c7d-4fac-d212-efda33bc405d"
      },
      "outputs": [
        {
          "output_type": "stream",
          "name": "stdout",
          "text": [
            "Conversion complete. The output has been saved to 'output.fasta'.\n"
          ]
        }
      ],
      "source": [
        "# 1. Open the FASTQ file for reading\n",
        "with open('example.fastq', 'r') as fastq_file:\n",
        "    # 2. Open a new FASTA file for writing\n",
        "    with open('output.fasta', 'w') as fasta_file:\n",
        "        # 3. Iterate over each line in the FASTQ file\n",
        "        while True:\n",
        "            # 4. Read the next four lines (one FASTQ entry)\n",
        "            header = fastq_file.readline().strip()\n",
        "            sequence = fastq_file.readline().strip()\n",
        "            fastq_file.readline()  # Plus line (ignore)\n",
        "            fastq_file.readline()  # Quality score line (ignore)\n",
        "\n",
        "            # 5. If the header is empty, we've reached the end of the file\n",
        "            if not header:\n",
        "                break\n",
        "\n",
        "            # 6. Convert the FASTQ header to a FASTA header\n",
        "            fasta_header = header.replace('@', '>')\n",
        "\n",
        "            # 7. Write the FASTA header and sequence to the FASTA file\n",
        "            fasta_file.write(f\"{fasta_header}\\n{sequence}\\n\")\n",
        "\n",
        "# 8. Notify the user that the conversion is complete\n",
        "print(\"Conversion complete. The output has been saved to 'output.fasta'.\")\n"
      ]
    },
    {
      "cell_type": "markdown",
      "source": [
        "## Python explainer\n",
        "\n",
        "Each number below refers to the position in the script above.\n",
        "\n",
        "1.  The with `open('example.fastq', 'r')` command opens the file named `example.fastq` in read mode (`'r'`), assigning it to the variable fastq_file.\n",
        "\n",
        "2.  Inside the first with block, another with block opens a new file named `output.fasta` in write mode (`'w'`), assigning it to the variable `fasta_file`. This file will store the converted sequences.\n",
        "\n",
        "3.  The `while True:` loop is used to repeatedly read four lines from the FASTQ file, which together represent a single sequence entry.\n",
        "\n",
        "4. Reading the Four Lines of a FASTQ Entry:\n",
        "*  The first `readline()` gets the header line (which starts with `@`) and removes the newline character at the end using `.strip()`.\n",
        "*  The second `readline()` gets the nucleotide sequence line.\n",
        "*  The next two `eadline()` calls read the '+' line and the quality scores line, respectively, but these are not stored because they are not needed for the FASTA format.\n",
        "\n",
        "5.  The loop checks if the header is empty (`if not header:`). An empty string indicates the end of the file has been reached, at which point the loop breaks.\n",
        "\n",
        "6. The FASTQ header (which starts with @) is converted to a FASTA header by replacing `@` with `>`.\n",
        "\n",
        "7.  The converted header and the sequence are written to the output.fasta file, formatted according to FASTA standards.\n",
        "\n",
        "8.  After converting all entries, the code prints a message to notify the user that the conversion is complete and the output is saved to output.fasta.\n",
        "\n"
      ],
      "metadata": {
        "id": "HnX9FJoZNESq"
      }
    },
    {
      "cell_type": "markdown",
      "source": [
        "##Going further\n",
        "In future weeks you will be introduced to writing Python functions. Try to place this code into a Python function that you define."
      ],
      "metadata": {
        "id": "8g85d90_dhne"
      }
    }
  ]
}