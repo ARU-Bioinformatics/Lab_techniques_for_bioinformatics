{
  "cells": [
    {
      "cell_type": "markdown",
      "metadata": {
        "id": "view-in-github",
        "colab_type": "text"
      },
      "source": [
        "<a href=\"https://colab.research.google.com/github/ARU-Bioinformatics/Lab_techniques_for_bioinformatics/blob/main/Week_6/tutorial_11_workbook.ipynb\" target=\"_parent\"><img src=\"https://colab.research.google.com/assets/colab-badge.svg\" alt=\"Open In Colab\"/></a>"
      ]
    },
    {
      "cell_type": "markdown",
      "metadata": {
        "id": "y4S1qUHwUzYx"
      },
      "source": [
        "# Tutorial workbook: lists and strings\n",
        "\n",
        "This activity builds on the Python you have become familiar with in previous tutorials. Here we will look at lists and explore how strings and lists are related."
      ]
    },
    {
      "cell_type": "markdown",
      "metadata": {
        "collapsed": true,
        "id": "6zwt3ktjUzZG"
      },
      "source": [
        "> ### Reminder: saving your work\n",
        ">\n",
        "> As you work through the work book it is important to regularly save your work. Notice that as you have made  changes the Jupyter window top line will warn you there are `(unsaved changes)` in small text. To save your work in this notebook by either select menu item `File` `Save` or by hit the save button:\n",
        ">\n",
        "> ![Jupyter Notebook Save Button|](https://aru-bioinf-ibds.github.io./images/save_button.png)\n",
        ">\n",
        ">\n",
        "> ### Reminder: getting help\n",
        "> Please see the page:\n",
        "> [Help with programming](https://canvas.anglia.ac.uk/courses/12178/pages/help-with-programming)\n",
        "> on ARU Canvas."
      ]
    },
    {
      "cell_type": "markdown",
      "metadata": {
        "id": "N1ui_MW7UzZJ"
      },
      "source": [
        "## Python Lists: defining lists\n",
        "Why do we need lists? Lists are useful for keeping a collection of things in order.\n",
        "\n",
        "So suppose we wanted to store information about the number\n",
        "of chromosomes for a few selected species:\n",
        "\n",
        "| Organism          | Scientific name         | Chromosome number |\n",
        "| --------          | :--------------:        | :---------------: |\n",
        "| fruit fly         | Drosophila melanogaster | 8   |\n",
        "| rice              | Oryza sativa            | 24  |\n",
        "| mouse             | Mus musculus            | 40  |\n",
        "| wheat             | Triticum aestivum       | 42  |\n",
        "| human             | Homo sapiens            | 46  |\n",
        "| potato            | Solanum tuberosum       | 48  |\n",
        "| great white shark | Carcharodon carcharias  | 82  |\n",
        "| carp              | Carassius carassius     | 100 |\n",
        "> *information from https://en.wikipedia.org/wiki/List_of_organisms_by_chromosome_count*"
      ]
    },
    {
      "cell_type": "markdown",
      "metadata": {
        "id": "n5EE4qGoUzZN"
      },
      "source": [
        "We can store the list of organisms in a Python list:"
      ]
    },
    {
      "cell_type": "code",
      "execution_count": null,
      "metadata": {
        "id": "b9PcjhNNUzZP"
      },
      "outputs": [],
      "source": [
        "organisms = ['fly', 'rice', 'mouse', 'wheat', 'human', 'potato', 'shark', 'carp']\n",
        "# Instruction: add Python command to print organisms list\n",
        "### your line here!"
      ]
    },
    {
      "cell_type": "markdown",
      "metadata": {
        "id": "3sn66XygUzZZ"
      },
      "source": [
        "Notice the use of square brackets `[]` in both the list definition and when the list is the printed."
      ]
    },
    {
      "cell_type": "markdown",
      "metadata": {
        "id": "9WMfchDfUzZa"
      },
      "source": [
        "**Now its your turn.** Create a list `chromosomes` that contains information from the table above about the number of chromosomes for each species."
      ]
    },
    {
      "cell_type": "code",
      "execution_count": null,
      "metadata": {
        "id": "TGHpNg_VUzZb"
      },
      "outputs": [],
      "source": [
        "# Instruction: define a Python list 'chromosomes' with\n",
        "# the number of chromosomes from table above (as integers)\n",
        "### your line here!\n",
        "\n",
        "# Instruction: now print your chromosomes list\n",
        "### your line here!"
      ]
    },
    {
      "cell_type": "markdown",
      "metadata": {
        "id": "35d_AHIEUzZd"
      },
      "source": [
        "Now run the following following Python that checks the chromosomes list is as it is expected (do not worry about understanding it - for now)."
      ]
    },
    {
      "cell_type": "code",
      "execution_count": null,
      "metadata": {
        "id": "NwI69RmcUzZe"
      },
      "outputs": [],
      "source": [
        "# Instruction: run this cell to check your chromosomes list\n",
        "\n",
        "# python code to check chromosomes list as described above\n",
        "# do not worry about understanding it yet - it just shows what can be done\n",
        "if 'chromosomes' not in locals():\n",
        "    print('Error: chromosomes variable has not been defined! Try again!')\n",
        "elif not isinstance(chromosomes, list):\n",
        "    print('Error: chromosomes is not a list! Try again!')\n",
        "elif len(chromosomes) != 8:\n",
        "    print('Error: chromosomes list does not have 8 elements! Try again!')\n",
        "elif sum(chromosomes) != 390:\n",
        "    print('Error: chromosomes list does not have expected sum! Try again!')\n",
        "else:\n",
        "    print('Well done chomosomes list checks out!')"
      ]
    },
    {
      "cell_type": "markdown",
      "metadata": {
        "id": "fXDU1x7QUzZf"
      },
      "source": [
        "### Appending items to a list"
      ]
    },
    {
      "cell_type": "markdown",
      "metadata": {
        "id": "3Oa381fWUzZg"
      },
      "source": [
        "You can append extra items to a list.\n",
        "So to define a list of scientific names we could start with an empty list and append the names one by one:"
      ]
    },
    {
      "cell_type": "code",
      "execution_count": null,
      "metadata": {
        "id": "vceysRcSUzZg"
      },
      "outputs": [],
      "source": [
        "scientific = []  # empty list\n",
        "scientific.append('Drosophila melanogaster')\n",
        "scientific.append('Oryza sativa')\n",
        "scientific.append('Mus musculus')\n",
        "scientific.append('Triticum aestivum')\n",
        "scientific = scientific + ['Homo sapiens',\n",
        "                           'Solanum tuberosum',\n",
        "                           'Carcharodon carcharias',\n",
        "                           'Carassius carassius']\n",
        "# Instruction: add Python command to print scientific\n",
        "### your line here!"
      ]
    },
    {
      "cell_type": "markdown",
      "metadata": {
        "id": "y5ONEAO0UzZp"
      },
      "source": [
        "Notice that the last four scientific names have been added by concatenating (joining) two lists together - the result is a new list.\n",
        "\n",
        "The concatentation command above could be more simplified by using the `+=` operator:\n",
        "```\n",
        "scientific += ['Homo sapiens', 'Solanum tuberosum',\n",
        "               'Carcharodon carcharias', 'Carassius carassius']\n",
        "```"
      ]
    },
    {
      "cell_type": "markdown",
      "metadata": {
        "id": "xHCWQIVfUzZq"
      },
      "source": [
        "**Now it is your turn.** From https://en.wikipedia.org/wiki/List_of_organisms_by_chromosome_count The `Red king crab` (`Paralithodes camtschaticus`) has `208` chromosomes. Lets add this information to the lists."
      ]
    },
    {
      "cell_type": "code",
      "execution_count": null,
      "metadata": {
        "id": "qY-e8b_nUzZq"
      },
      "outputs": [],
      "source": [
        "# Instruction: append 'king crab' to the list organisms\n",
        "### your line here!\n",
        "\n",
        "# following lines check that 'king crab' is somewhere in the list.\n",
        "if not 'king crab' in organisms:\n",
        "    print('Error: you have not added \"king crab\" to organisms! Try again!')\n",
        "else:\n",
        "    print('Well done organisms now has a king crab in it:\\n', organisms)"
      ]
    },
    {
      "cell_type": "markdown",
      "metadata": {
        "id": "5weFmLJ2UzZr"
      },
      "source": [
        "Lets add the king crab's number of chromosomes to list `chromosomes`. This time using concatenation rather than `.append()`"
      ]
    },
    {
      "cell_type": "code",
      "execution_count": null,
      "metadata": {
        "id": "EuEh64kAUzZs"
      },
      "outputs": [],
      "source": [
        "# Instruction append 208 to the list chromosomes using concatenation\n",
        "### your line here!\n",
        "\n",
        "print(chromosomes)"
      ]
    },
    {
      "cell_type": "markdown",
      "metadata": {
        "id": "OVb7FQiYUzZt"
      },
      "source": [
        "> *Hint: remember that you can only concentate two lists together so:*\n",
        "> ```\n",
        "> primes = [2, 3, 5]\n",
        ">primes += [7]\n",
        "> ```\n",
        "> *works fine whereas trying concentenate a list and an integer\n",
        "> will result in an error. So:*\n",
        "> ```\n",
        "> primes = [2, 3, 5]\n",
        "> primes += 7\n",
        "> ```\n",
        "> **will not work**"
      ]
    },
    {
      "cell_type": "markdown",
      "metadata": {
        "id": "oQTolbcSUzZt"
      },
      "source": [
        "Now lets you should add the red kings crab scientific name `Paralithodes camtschaticus` to the `scientific` list."
      ]
    },
    {
      "cell_type": "code",
      "execution_count": null,
      "metadata": {
        "id": "5YBro4uiUzZu"
      },
      "outputs": [],
      "source": [
        "# Instruction append 'Paralithodes camtschaticus' to the list scientific\n",
        "### your line here!\n",
        "print(scientific)"
      ]
    },
    {
      "cell_type": "markdown",
      "metadata": {
        "id": "dubOm5MgUzZv"
      },
      "source": [
        "### Finding number of items in a list using the `len()` function\n",
        "\n",
        "Reminder in exercise we saw that we use the `len()` function to find the number of letters in a string.\n",
        "\n",
        "This function will also return the number of items in a list.\n",
        "\n",
        "Try running the next cell\n"
      ]
    },
    {
      "cell_type": "code",
      "execution_count": null,
      "metadata": {
        "id": "ne_SJclFUzZv"
      },
      "outputs": [],
      "source": [
        "# Instruction: run this cell to see how len() works with lists.\n",
        "primes = [2, 3, 5]\n",
        "print(len(primes))"
      ]
    },
    {
      "cell_type": "markdown",
      "metadata": {
        "id": "pBPMjBTLUzZw"
      },
      "source": [
        "**Now its your turn**"
      ]
    },
    {
      "cell_type": "code",
      "execution_count": null,
      "metadata": {
        "id": "BeSRd2JPUzZx"
      },
      "outputs": [],
      "source": [
        "# Instruction: print out the number of items in the a_zero, empty and three_nones lists\n",
        "a_zero = ['a', 0]\n",
        "empty = []\n",
        "three_nones = [None, None, None]\n",
        "### your line here!"
      ]
    },
    {
      "cell_type": "markdown",
      "metadata": {
        "id": "dRgyktCdUzZ2"
      },
      "source": [
        "Notice that a list can be empty `[]`, this is a list with no items in it. Lists can also have `None` in them!"
      ]
    },
    {
      "cell_type": "markdown",
      "metadata": {
        "id": "bUab7VCcUzZ3"
      },
      "source": [
        "Now print out the number of items in each of the `organisms`, `scientific` and `chromosomes` lists that have be defined above (they should be in the kernel memory)."
      ]
    },
    {
      "cell_type": "code",
      "execution_count": null,
      "metadata": {
        "id": "kedSODjAUzZ4"
      },
      "outputs": [],
      "source": []
    },
    {
      "cell_type": "markdown",
      "metadata": {
        "id": "XEuYfZORUzZ4"
      },
      "source": [
        "### Getting an item from a list by using `list_name[index]`\n",
        "\n",
        "> *If this is unfamiliar, go back and look at the\n",
        "> [DataCamp course](https://www.datacamp.com/courses/intro-to-python-for-data-science)\n",
        "> particularly Chapter 2, \"Subsetting lists\" video.*\n",
        "\n",
        "In the DataCamp course, you have seen that you get a specific item in a list by using `list_name[index]`. So to get the first item of a list `a_list` you can specify `a_list[0]`, the second item of the list by `a_list[1]`:"
      ]
    },
    {
      "cell_type": "code",
      "execution_count": null,
      "metadata": {
        "id": "3Pvq_MIoUzZ5"
      },
      "outputs": [],
      "source": [
        "# Instruction: run this cell to demonstation getting a\n",
        "#             specific item of a list by its index\n",
        "fruits = ['apple', 'banana', 'cherry', 'date', 'elderberry']\n",
        "print('first  item of list fruits is fruits[0]=' + fruits[0])\n",
        "print('second item of list fruits is fruits[1]=' + fruits[1])\n",
        "print('third  item of list fruits is fruits[2]=' + fruits[2])"
      ]
    },
    {
      "cell_type": "markdown",
      "metadata": {
        "id": "pcDRaMn7UzZ5"
      },
      "source": [
        "furthermore, you have seen you can get the last item of a list by using an index of `-1`:"
      ]
    },
    {
      "cell_type": "code",
      "execution_count": null,
      "metadata": {
        "id": "tdygMq0gUzZ5"
      },
      "outputs": [],
      "source": [
        "# Instruction: run this cell to demonstation getting a\n",
        "#             specific item of a list by its index\n",
        "print('last  item of list fruits is fruits[-1]=' + fruits[-1])\n",
        "print('penultimate item of a list is -2, fruits[-2]=' + fruits[-2])"
      ]
    },
    {
      "cell_type": "markdown",
      "metadata": {
        "id": "MgUZ60R8UzZ6"
      },
      "source": [
        "**Now its your turn** write python to print out the first, 2nd and last item of the `organisms` list"
      ]
    },
    {
      "cell_type": "code",
      "execution_count": null,
      "metadata": {
        "id": "yYNwsUyYUzZ7"
      },
      "outputs": [],
      "source": [
        "# Instruction: print out the first, 2nd and last item of the `organisms` list\n",
        "### your line here!\n",
        "### your line here!\n",
        "### your line here!"
      ]
    },
    {
      "cell_type": "markdown",
      "metadata": {
        "id": "7jGpqbjHUzZ8"
      },
      "source": [
        "### Getting a character from a string by using string_name[index]\n",
        "We have already seen that strings and lists have some features in common as the `len()` function can be used to find the number of characters in a string or the number of items in a list. You will not be surprised to know that you can get individual characters from a string using the index just like for lists."
      ]
    },
    {
      "cell_type": "code",
      "execution_count": null,
      "metadata": {
        "id": "2vuKqGeeUzZ8"
      },
      "outputs": [],
      "source": [
        "# Instruction: run this cell to demonstation getting a\n",
        "#             specific charact of a string by its index\n",
        "my_string = 'A stitch in time, saves 9'\n",
        "print('my string=' + my_string)\n",
        "print('1st  character is my_string[0]=' +  my_string[0])\n",
        "print('3rd  character is my_string[1]=' +  my_string[2])\n",
        "print('5th  character is my_string[1]=' +  my_string[4])\n",
        "print('last character is my_string[-1]=' +  my_string[-1])"
      ]
    },
    {
      "cell_type": "markdown",
      "metadata": {
        "id": "9jxXmfm9UzZ9"
      },
      "source": [
        "**Now its your turn** write Python:"
      ]
    },
    {
      "cell_type": "code",
      "execution_count": null,
      "metadata": {
        "id": "E3BGy0gyUzZ9"
      },
      "outputs": [],
      "source": [
        "seq_a = 'ATGGGGCATGCATGC'\n",
        "# Instruction: print out the first character of seq_a\n",
        "### your line here!\n",
        "\n",
        "# Instruction: print out the 2nd character of seq_a\n",
        "### your line here!\n",
        "\n",
        "# Instruction: print out the 7th character of seq_a\n",
        "### your line here!\n",
        "\n",
        "# Instruction: print out the last character of seq_a\n",
        "### your line here!\n",
        "\n",
        "# Instruction: print out the penultimate (one before last) character of seq_a\n",
        "### your line here!"
      ]
    },
    {
      "cell_type": "markdown",
      "metadata": {
        "id": "AUfRymY9UzZ-"
      },
      "source": [
        " write Python to print out the first and last character of the first item of the fruits list.\n",
        "\n",
        "> *Hint the first items of fruits is* `fruits[0]`"
      ]
    },
    {
      "cell_type": "code",
      "execution_count": null,
      "metadata": {
        "id": "xNd5Q9Z7UzaP"
      },
      "outputs": [],
      "source": [
        "# Instruction: print out the first item of the fruits list defined above\n",
        "### your line here!\n",
        "# now print out the first character of the first fruit\n",
        "### your line here!\n",
        "# now print out the last character of the first fruit\n",
        "### your line here!"
      ]
    },
    {
      "cell_type": "markdown",
      "metadata": {
        "id": "jHJ-i6apUzaQ"
      },
      "source": [
        "### Slicing lists  by using list_name[start:end]\n",
        "\n",
        "> *If this is unfamiliar, go back and look at the\n",
        "> [DataCamp course](https://www.datacamp.com/courses/intro-to-python-for-data-science)\n",
        "> particularly Chapter 2, \"Subsetting lists\" video.*\n",
        "\n",
        "In the DataCamp course, you have seen that as well as getting specific characters from a list one can **slice** of parts of lists:\n",
        "```\n",
        "list_name[  start   : end      ]\n",
        "          inclusive : exclusive\n",
        "```\n",
        "* Remember Python indexes start at zero.\n",
        "* Remember the `end` index is exclusive - so the slice will not include that element, ending on the one before\n",
        "* If you leave out `start` and/or `end` the slice will be from the start of the list and/or to the end of the list.\n",
        "So lets try this out in practice"
      ]
    },
    {
      "cell_type": "code",
      "execution_count": null,
      "metadata": {
        "id": "zToZgPRrUzaR"
      },
      "outputs": [],
      "source": [
        "# Instruction: run this cell to demonstate list slicing\n",
        "fruits = ['apple', 'banana', 'cherry', 'date', 'elderberry', 'fig', 'grape']\n",
        "# index     0        1         2         3       4             5       6\n",
        "# Slice the first two fruits\n",
        "print('first two fruits - fruits[0:2]=', fruits[0:2])\n",
        "# the previous slice started at the beginning so can leave out the zero\n",
        "print('first two fruits - leaving out initial zero, fruits[:2]=', fruits[:2])\n",
        "# create a new list with the first three fruits\n",
        "first_3_fruits = fruits[:3]\n",
        "print('new list first_3_fruits=', first_3_fruits)\n",
        "# the second to the 5th fruit:\n",
        "print('the second to the 5th fruit - fruits[1:5]=', fruits[1:5])\n",
        "# all the fruits but the first one:\n",
        "print('all the fruits but the first one - fruits[1:]=', fruits[1:])\n",
        "# all the fruits but the last one:\n",
        "print('all the fruits but the last one - fruits[1:]=', fruits[:-1])"
      ]
    },
    {
      "cell_type": "code",
      "execution_count": null,
      "metadata": {
        "id": "ft9Fk_7lUzac"
      },
      "outputs": [],
      "source": [
        "veggies = ['aubergine ', 'broccoli', 'cabbage', 'daikon', 'endive', 'fennel', 'gherkin']\n",
        "# Instruction: print out the first four veggies\n",
        "### your line here!\n",
        "# Instruction: print out the 5th to the last veggies\n",
        "### your line here!\n",
        "# Instruction: print out all the veggies except the first\n",
        "### your line here!\n",
        "# Instruction: print out all the veggies except the last\n",
        "### your line here!"
      ]
    },
    {
      "cell_type": "code",
      "execution_count": null,
      "metadata": {
        "id": "ijWKVo5AUzad"
      },
      "outputs": [],
      "source": [
        "# Instruction: create a new list called 'select_v' with all the veggies except the first and last\n",
        "### your line here!\n",
        "# Instruction: print out the new  check your select_v list\n",
        "### your line here!"
      ]
    },
    {
      "cell_type": "code",
      "execution_count": null,
      "metadata": {
        "id": "S-PEVILsUzad"
      },
      "outputs": [],
      "source": [
        "# Instruction: run this cell to check your select_v list\n",
        "# python code to check check your select_v list\n",
        "# do not worry about understanding it yet - it just shows what can be done\n",
        "if 'select_v' not in locals():\n",
        "    print('Error: check your select_v list has not been defined! Try again!')\n",
        "elif not isinstance(select_v, list):\n",
        "    print('Error: check your select_v list is not a list! Try again!')\n",
        "elif len(select_v) != 5 or select_v[-1] != 'fennel':\n",
        "    print('Error: your select_v list is not correct!')\n",
        "else:\n",
        "    print('Well done your select_v list checks out!')"
      ]
    },
    {
      "cell_type": "markdown",
      "metadata": {
        "id": "byFieQ7cUzad"
      },
      "source": [
        "In the next section we will answer the question: what is the **type** of a slice from a list?"
      ]
    },
    {
      "cell_type": "code",
      "execution_count": null,
      "metadata": {
        "id": "3_RYak8uUzae"
      },
      "outputs": [],
      "source": [
        "num_list = [0, 1, 2]\n",
        "print('type of num_list is', type(num_list))\n",
        "# Instruction: print out the slice containing the first two element of num_list\n",
        "### your line here!\n",
        "# what type is the slice in the previous line?\n",
        "### In the next line replace **** with your predictions\n",
        "print('I predict the type of the slice from a list to be ******')\n",
        "# now write Python using type() to check your prediction.\n",
        "### your line here!"
      ]
    },
    {
      "cell_type": "markdown",
      "metadata": {
        "id": "d5-4XQQuUzae"
      },
      "source": [
        "### Slicing strings by using strings[start:end]\n",
        "\n",
        "Guess what? You can slice strings in exactly the same way as lists. You have a go"
      ]
    },
    {
      "cell_type": "code",
      "execution_count": null,
      "metadata": {
        "id": "j5-vcpVrUzaf"
      },
      "outputs": [],
      "source": [
        "b_seq = 10*'A' + 10*'G' + 10*'T'\n",
        "# Instruction: what are the first 5 characters of b_seq\n",
        "### your line here!\n",
        "# Instruction: what are the last 11 characters of b_seq\n",
        "### your line here!\n",
        "# Instruction: what are the 10th to 19th characters of b_seq\n",
        "### your line here!\n",
        "# Instruction: what is the last character of b_seq\n",
        "### your line here!"
      ]
    },
    {
      "cell_type": "markdown",
      "metadata": {
        "id": "ue5qnxbvUzaf"
      },
      "source": [
        "### Advanced slicing with increment list_name[start:end:increment]\n",
        "By default a slice will include all elements between the indices `start` and the `end-1`.\n",
        "If you specify an increment of two then you can select, every second element:"
      ]
    },
    {
      "cell_type": "code",
      "execution_count": null,
      "metadata": {
        "id": "j1_UMQ9hUzaf"
      },
      "outputs": [],
      "source": [
        "# Instruction: run this cell to demonstate list increment\n",
        "fruits = ['apple', 'banana', 'cherry', 'date', 'elderberry', 'fig', 'grape']\n",
        "# index     0        1         2         3       4             5       6\n",
        "odd_fruits = fruits[::2]\n",
        "print(odd_fruits)"
      ]
    },
    {
      "cell_type": "code",
      "execution_count": null,
      "metadata": {
        "id": "2QuUBTaJUzaf"
      },
      "outputs": [],
      "source": [
        "veggies = ['aubergine ', 'broccoli', 'cabbage', 'daikon', 'endive', 'fennel', 'gherkin']\n",
        "# Instruction: create list odd_veggies that has the 1st, 3rd, 5th veggies.\n",
        "### your line here!\n",
        "# Instruction: create list even_veggies that has the 2nd, 4th, 6th veggies\n",
        "### your line here!\n",
        "# Instruction: print the two lists\n",
        "### your line here!\n",
        "### your line here!"
      ]
    },
    {
      "cell_type": "markdown",
      "metadata": {
        "id": "VG3CFpVEUzag"
      },
      "source": [
        "### Reversing a list (or string) using an increment of minus -1\n",
        "try this out:"
      ]
    },
    {
      "cell_type": "code",
      "execution_count": null,
      "metadata": {
        "id": "PxXdZaPCUzag"
      },
      "outputs": [],
      "source": [
        "# Instruction: run this cell to demonstrate reversing a list\n",
        "fruits = ['apple', 'banana', 'cherry', 'date', 'elderberry', 'fig', 'grape']\n",
        "reverse_fruits = fruits[::-1]\n",
        "print(reverse_fruits)"
      ]
    },
    {
      "cell_type": "markdown",
      "metadata": {
        "id": "_59lIQ-eUzah"
      },
      "source": [
        "exactly the same syntax can be use to reverse a string."
      ]
    },
    {
      "cell_type": "code",
      "execution_count": null,
      "metadata": {
        "id": "Qhgpl3yqUzah"
      },
      "outputs": [],
      "source": [
        "seq_c = 'AATGCC'\n",
        "# Instruction: create a string seq_c_backwards that is the reverse of seq_c\n",
        "### your line here!\n",
        "# Instruction: print out seq_c_backwards\n",
        "### your line here!"
      ]
    },
    {
      "cell_type": "markdown",
      "metadata": {
        "id": "3xqOq3N2Uzah"
      },
      "source": [
        "### Replacing list elements  by `list_name[index] = new_value`\n",
        ">\n",
        "> *Advanced material: If you are confused or time is short go on to [homework B](./ex_B_homework.ipynb)*\n",
        "\n",
        "As you have seen in the Data Camp Coures, it is easy to replace a list element:"
      ]
    },
    {
      "cell_type": "code",
      "execution_count": null,
      "metadata": {
        "id": "2V3UadMFUzah"
      },
      "outputs": [],
      "source": [
        "# Instruction: run this cell to demonstrate replacing list elements\n",
        "fruits = ['apple', 'banana', 'cherry', 'date', 'elderberry', 'fig', 'grape']\n",
        "fruits[1] = 'blueberry'\n",
        "fruits[-1] = 'grapefruit'\n",
        "print(fruits)"
      ]
    },
    {
      "cell_type": "markdown",
      "metadata": {
        "id": "cV6ChhbnUzai"
      },
      "source": [
        "**Now your turn:** Our table of organism and Chromosomes:\n",
        "\n",
        "| Organism          | Scientific name         | Chromosome number |\n",
        "| --------          | :--------------:        | :---------------: |\n",
        "| fruit **fli**     | Drosophila melanogaster | 8   |\n",
        "| rice              | Oryza sativa            | **20** |\n",
        "| mouse             | Mus musculus            | 30  |\n",
        "| wheat             | Triticum aestivum       | 42  |\n",
        "| human             | **Hom** sapiens            | 46  |\n",
        "| potato            | Solanum tuberosum       | 48  |\n",
        "| **grape** white shark | Carcharodon carcharias  | 82  |\n",
        "| carp             | Carassius carassius     | **101** |\n",
        "> *information from https://en.wikipedia.org/wiki/List_of_organisms_by_chromosome_count*\n",
        "\n",
        "now has a number of mistakes shown in **bold**:\n",
        "* **fli** should be *fly*\n",
        "* **grape white shark** should be *great white shark*\n",
        "* **hom sapiens** should *Homo sapiens*\n",
        "* **20** the number of chromosomes for rice should be *24*\n",
        "* **101**  the number of chromosomes for carp should be *100*"
      ]
    },
    {
      "cell_type": "code",
      "execution_count": null,
      "metadata": {
        "id": "9ZrpAJxZUzaj"
      },
      "outputs": [],
      "source": [
        "organisms = ['fruit fli', 'rice', 'mouse', 'wheat', 'human', 'potato', 'grape white shark', 'carp']\n",
        "chromosomes = [8, 20, 30, 42, 46, 48, 82, 101]\n",
        "scientific = ['Drosophila melanogaster',\n",
        "              'Oryza sativa',\n",
        "              'Mus musculus',\n",
        "              'Triticum aestivum',\n",
        "              'Hom sapiens',\n",
        "              'Solanum tuberosum',\n",
        "              'Carcharodon carcharias',\n",
        "              'Carassius carassius']\n",
        "# Instruction: correct the three lists by replacing the erroneous entries\n",
        "### your lines here!\n",
        "\n",
        "# Instruction: print the three lists after correction to check your work\n",
        "### your lines here!"
      ]
    },
    {
      "cell_type": "code",
      "execution_count": null,
      "metadata": {
        "id": "1_Y_xsKrUzan"
      },
      "outputs": [],
      "source": [
        "# Using Python you will soon learn it is possible to print out the three lists as a table with rows\n",
        "# Instruction: run this cell to check your corrections\n",
        "for row in zip(organisms, chromosomes, scientific):\n",
        "    print(row)"
      ]
    },
    {
      "cell_type": "code",
      "execution_count": null,
      "metadata": {
        "id": "F7EKQZTGUzap"
      },
      "outputs": [],
      "source": []
    },
    {
      "cell_type": "markdown",
      "metadata": {
        "id": "xCarayJSUzav"
      },
      "source": [
        "### Deleting list elements by `del(list_name[index])`\n",
        ">\n",
        "> *Advanced material: If you are confused or time is short go on to [homework B](./ex_B_homework.ipynb)*\n",
        "\n",
        "As you have seen in the Data Camp Coures, it is easy to delete a list element using the `del()`:"
      ]
    },
    {
      "cell_type": "code",
      "execution_count": null,
      "metadata": {
        "id": "YsBFXbywUzaw"
      },
      "outputs": [],
      "source": [
        "# Instruction: run this cell to demonstrate deleting list elements\n",
        "fruits = ['apple', 'banana', 'cherry', 'date', 'elderberry', 'fig', 'grape']\n",
        "# delete the first fruits item\n",
        "del(fruits[0])\n",
        "# delete the last fruits item\n",
        "del(fruits[-1])\n",
        "print('after deleting first and last:', fruits)"
      ]
    },
    {
      "cell_type": "markdown",
      "metadata": {
        "id": "Q7CGTBqDUzax"
      },
      "source": [
        "### You **cannot** use `del()` on strings\n",
        ">\n",
        "> *Advanced material: If you are confused or time is short go on to [homework B](./ex_B_homework.ipynb)*\n",
        "\n",
        "Although lists and strings are similar note that you cannot reassign specific string characters\n",
        "in the same way as you can lists:"
      ]
    },
    {
      "cell_type": "code",
      "execution_count": null,
      "metadata": {
        "id": "iVm87DlRUzay"
      },
      "outputs": [],
      "source": [
        "# Instruction: run this cell to demonstrate that you cannot reassign specific string items\n",
        "# N.B. running this cell will cause a failure!\n",
        "my_list = ['a', 'b']\n",
        "my_list[0] = 'c'  # works my_list now ['c', 'b']\n",
        "my_string = 'ab'\n",
        "my_string[0] = 'c'  # Fails with TypeError: 'str' object does not support item assignment"
      ]
    },
    {
      "cell_type": "markdown",
      "metadata": {
        "id": "P-rw9a_ZUzaz"
      },
      "source": [
        "Similarly, you cannot use del() on string characters:"
      ]
    },
    {
      "cell_type": "code",
      "execution_count": null,
      "metadata": {
        "id": "XZY2-VeUUzaz"
      },
      "outputs": [],
      "source": [
        "# Instruction: run this cell to demonstrate that you cannot del specific string items\n",
        "# N.B. running this cell will cause a failure!\n",
        "my_list = ['a', 'b']\n",
        "del(my_list[0])  # works my_list now ['b']\n",
        "my_string = 'ab'\n",
        "del(my_string[0])  # Fails with TypeError: 'str' object doesn't support item deletion"
      ]
    },
    {
      "cell_type": "markdown",
      "metadata": {
        "id": "Cz_UxZODUza4"
      },
      "source": [
        "the reason is that in Python strings are *immutable* - once defined they cannot be altered.\n",
        "\n",
        "If you want to perform this kind of manipulation on a string you can convert to a list, manipulate it and convert it back:"
      ]
    },
    {
      "cell_type": "code",
      "execution_count": null,
      "metadata": {
        "id": "TE9rU0Z0Uza5"
      },
      "outputs": [],
      "source": [
        "# Instruction: run this cell to demonstrate converting\n",
        "#              a string to a list, manipulation and back conversion\n",
        "my_str = 'happily'\n",
        "my_list = list(my_str)\n",
        "my_list[0] ='H'\n",
        "del(my_list[-3:-1])  # remove the 'il'\n",
        "my_str = ''.join(my_list)  # replace my_str with the manipulated one\n",
        "print(my_str)"
      ]
    },
    {
      "cell_type": "markdown",
      "metadata": {
        "id": "Z2s_pH03Uza6"
      },
      "source": [
        "### Lists of lists\n",
        ">\n",
        "> *Advanced material: If you are confused or time is short go on to* **homework_C.ipynb**\n",
        "\n",
        "In the Data camp course you saw how it makes sense to group data by using lists that contain lists in them:"
      ]
    },
    {
      "cell_type": "code",
      "execution_count": null,
      "metadata": {
        "id": "awH3ekeOUza7"
      },
      "outputs": [],
      "source": [
        "# Instruction: run this cell to see simplified DataCamp List of lists example:\n",
        "\n",
        "# house information as list of lists\n",
        "house = [[\"hallway\", 32],\n",
        "         [\"kitchen\", 75.],\n",
        "         [\"living room\", 33.]]\n",
        "print(type(house))\n",
        "print(house)"
      ]
    },
    {
      "cell_type": "markdown",
      "metadata": {
        "id": "P9klWmoFUza8"
      },
      "source": [
        "Lets return to our the table:\n",
        "\n",
        "| Organism          | Scientific name         | Chromosome number |\n",
        "| --------          | :--------------:        | :---------------: |\n",
        "| fruit fly         | Drosophila melanogaster | 8   |\n",
        "| rice              | Oryza sativa            | 20  |\n",
        "| mouse             | Mus musculus            | 40  |\n",
        "| wheat             | Triticum aestivum       | 42  |\n",
        "| human             | Homo sapiens            | 46  |\n",
        "\n",
        "above we have stored the information in three separate lists. But this approach means that information could easily become out of sync. We could store the information in a single list:\n",
        "```\n",
        "table_single =  ['fruit fly', 'Drosophila melanogaster', 8, 'rice', 'Oryza sativa', 24, ]\n",
        "```\n",
        "but this means that accessing/modifying the data is pretty cumbersome\n",
        "* the organism is stored in indices 0, 3, 6, ...\n",
        "* the Chromosome number in indices 2, 5, 8\n",
        "\n",
        "Instead storing as in a list of lists makes sense:"
      ]
    },
    {
      "cell_type": "code",
      "execution_count": null,
      "metadata": {
        "id": "wGy9pfMnUza9"
      },
      "outputs": [],
      "source": [
        "# Instruction: run this cell to see start of table as a list of lists\n",
        "table_lol = [['fruit fly', 'Drosophila melanogaster', 8],\n",
        "             ['rice', 'Oryza sativa', 22],\n",
        "             ['mouse', 'Mus musculus', 40]]\n",
        "print('full table', table_lol)\n",
        "print('first row of table: ', table_lol[0])\n",
        "print('first organism: ', table_lol[0][0])\n",
        "print('first Chromosome number : ', table_lol[0][-1])"
      ]
    },
    {
      "cell_type": "code",
      "execution_count": null,
      "metadata": {
        "id": "_4hF5kIGUza-"
      },
      "outputs": [],
      "source": [
        "# Instruction: use append or concatention to complete\n",
        "#              table_lol with the data for wheat and human\n",
        "print('completed table', table_lol)"
      ]
    },
    {
      "cell_type": "markdown",
      "metadata": {
        "id": "XPo38st0Uza-"
      },
      "source": [
        "You decide that you want to remove the `'fruit fly'` data from the table and notice there has been a mistake in the number of chromosome for rice that should be 24 rather than 20. Finally print the table to check your work."
      ]
    },
    {
      "cell_type": "code",
      "execution_count": null,
      "metadata": {
        "id": "fv1oJ-eOUza_"
      },
      "outputs": [],
      "source": [
        "# Instruction: make corrections to table_lol\n",
        "### your lines here!"
      ]
    },
    {
      "cell_type": "markdown",
      "metadata": {
        "id": "u2-o9AuxUza_"
      },
      "source": [
        ">\n",
        "> *Advanced Python Hint: there are other, possibly better choices to store the table information:*\n",
        "> * *Could have a list of named tuples or*\n",
        "> * *An ordered dictionary of tuples*"
      ]
    },
    {
      "cell_type": "markdown",
      "metadata": {
        "id": "rN_FsVzgUzbA"
      },
      "source": [
        "## Homework\n",
        "Now go on and use strings and the string functions and methods introduced here to complete the **tutorial_11_homework.ipynb** book"
      ]
    }
  ],
  "metadata": {
    "kernelspec": {
      "display_name": "Python 3",
      "language": "python",
      "name": "python3"
    },
    "language_info": {
      "codemirror_mode": {
        "name": "ipython",
        "version": 3
      },
      "file_extension": ".py",
      "mimetype": "text/x-python",
      "name": "python",
      "nbconvert_exporter": "python",
      "pygments_lexer": "ipython3",
      "version": "3.7.1"
    },
    "colab": {
      "provenance": [],
      "include_colab_link": true
    }
  },
  "nbformat": 4,
  "nbformat_minor": 0
}