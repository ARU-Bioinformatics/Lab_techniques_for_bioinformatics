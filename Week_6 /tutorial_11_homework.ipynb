{
  "cells": [
    {
      "cell_type": "markdown",
      "metadata": {
        "id": "view-in-github",
        "colab_type": "text"
      },
      "source": [
        "<a href=\"https://colab.research.google.com/github/ARU-Bioinformatics/Lab_techniques_for_bioinformatics/blob/main/Week_6%20/tutorial_11_homework.ipynb\" target=\"_parent\"><img src=\"https://colab.research.google.com/assets/colab-badge.svg\" alt=\"Open In Colab\"/></a>"
      ]
    },
    {
      "cell_type": "markdown",
      "metadata": {
        "id": "e0mizcaJUzky"
      },
      "source": [
        "# Tutorial 11 homework: lists and protein sequences\n",
        "\n",
        "Make sure you have worked through **workbook C** before tackling this homework."
      ]
    },
    {
      "cell_type": "markdown",
      "metadata": {
        "id": "eJFNh3z-Uzk6"
      },
      "source": [
        "##  protein sequences\n",
        "We have been working with nucleotide sequences. Now lets switch to proteins that are the things that do most of the work in biology. Proteins are polymers of amino acids joined by peptide bonds (you will learn alot about this in the course). There are twenty amino acid coded in genomes (ignore the Selenocysteine **U** for now):"
      ]
    },
    {
      "cell_type": "markdown",
      "metadata": {
        "id": "CKPkKUdjUzk8"
      },
      "source": [
        "<img src=\"https://upload.wikimedia.org/wikipedia/commons/5/51/Molecular_structures_of_the_21_proteinogenic_amino_acids.svg\" width=500/>\n",
        "\n",
        "**Image By Dan Cojocari, used under [Creative Commons License](https://creativecommons.org/licenses/by-sa/3.0), from Wikimedia Commons**"
      ]
    },
    {
      "cell_type": "markdown",
      "metadata": {
        "id": "CyYUh8vZUzk9"
      },
      "source": [
        "So to represent a protein sequence we need 20 letters rather than the 4 needed for DNA sequences. The one letter code for each amino acid is show in the red circle above, for example \"Arginine\" that has a side chain with a positive charge has the one letter code `R`."
      ]
    },
    {
      "cell_type": "code",
      "execution_count": null,
      "metadata": {
        "collapsed": true,
        "id": "33Zr2uBvUzlA"
      },
      "outputs": [],
      "source": [
        "# instruction: create lists of the one letter for amino acids of\n",
        "# different categories from figure above.\n"
      ]
    },
    {
      "cell_type": "code",
      "execution_count": null,
      "metadata": {
        "id": "bSc62F6RUzlE"
      },
      "outputs": [],
      "source": [
        "# I have do the first one for you:\n",
        "# aa_negative: one letter codes for the two amino acids with side chains\n",
        "#               that are normally negatively charged.\n",
        "aa_negative = ['D', 'E']\n",
        "print('negative amino acids:', aa_negative)"
      ]
    },
    {
      "cell_type": "code",
      "execution_count": null,
      "metadata": {
        "id": "qqNh3WuPUzlF"
      },
      "outputs": [],
      "source": [
        "# aa_positive: one letter codes for the 3 amino acids with side chains that\n",
        "#           that are normally positively charged.\n",
        "### your line here!\n",
        "print('positive amino acids:', aa_positive)"
      ]
    },
    {
      "cell_type": "code",
      "execution_count": null,
      "metadata": {
        "id": "ynd87eqGUzlG"
      },
      "outputs": [],
      "source": [
        "# aa_polar: one letter codes for the 4 amino acids with side chains that\n",
        "#           that are polar but not charged.\n",
        "aa_polar = []  # empty list\n",
        "# now use .append() to add the amino acids one at a time\n",
        "### your line here!\n",
        "### your line here!\n",
        "### your line here!\n",
        "### your line here!\n",
        "print('polar amino acids:', aa_polar)"
      ]
    },
    {
      "cell_type": "code",
      "execution_count": null,
      "metadata": {
        "id": "YBTzDXpcUzlH"
      },
      "outputs": [],
      "source": [
        "# aa_special: one letter codes for the 3 amino acids with side chains that\n",
        "#             classified as special in figure - ignoring U.\n",
        "### your line here!\n",
        "print('special amino acids:', aa_special)"
      ]
    },
    {
      "cell_type": "code",
      "execution_count": null,
      "metadata": {
        "id": "APee8ZHVUzlJ"
      },
      "outputs": [],
      "source": [
        "# aa_hydrophobic: one letter codes for the 8 amino acids with side chains that\n",
        "#                 are hydrophobic.\n",
        "aa_hydrophobic = list('AILMFWYV')  # Note conversion of string to list.\n",
        "print('hydrophobic amino acids:', aa_hydrophobic)"
      ]
    },
    {
      "cell_type": "markdown",
      "metadata": {
        "id": "9AF6yhi3UzlK"
      },
      "source": [
        "We now have five lists for the different classification of amino acids. There should be:\n",
        "* 2 amino acids with negatively charged side chains\n",
        "* 3 positive amino acids\n",
        "* 4 polar amino acids\n",
        "* 3 special amino acids\n",
        "* 8 hydrohobic amino acids\n",
        "Use the `len()` function to check the numbers in each list."
      ]
    },
    {
      "cell_type": "code",
      "execution_count": null,
      "metadata": {
        "collapsed": true,
        "id": "q-8j7CCMUzlK"
      },
      "outputs": [],
      "source": [
        "# instruction: use len function to print out the number of each of the five lists.\n",
        "### your line here! (2 -ve)\n",
        "### your line here! (3 +ve)\n",
        "### your line here! (4 polar)\n",
        "### your line here! (3 special)\n",
        "### your line here! (8 hydrophobic)"
      ]
    },
    {
      "cell_type": "markdown",
      "metadata": {
        "id": "aFuENx5kUzlL"
      },
      "source": [
        "Now create a list of the twenty coded amino acids **using the five lists you have just created**."
      ]
    },
    {
      "cell_type": "code",
      "execution_count": null,
      "metadata": {
        "id": "_cnq3iKQUzlM"
      },
      "outputs": [],
      "source": [
        "# instruction: create a list of one-letter-code for the twenty coded amino acids\n",
        "### your line here!"
      ]
    },
    {
      "cell_type": "code",
      "execution_count": null,
      "metadata": {
        "id": "J1D9OPO6UzlM"
      },
      "outputs": [],
      "source": [
        "# instruction: print out the list of coded amino acids\n",
        "### your line here!"
      ]
    },
    {
      "cell_type": "code",
      "execution_count": null,
      "metadata": {
        "id": "l8fmQi5FUzlN"
      },
      "outputs": [],
      "source": [
        "# now check the length of the list you have created is 20\n",
        "### your line here!"
      ]
    },
    {
      "cell_type": "markdown",
      "metadata": {
        "id": "xrsCpB7MUzlN"
      },
      "source": [
        "##  Working out the overall charge of a bee venom protein\n",
        "Apamin is a bee venom toxin.\n",
        "\n",
        "<img src='https://upload.wikimedia.org/wikipedia/commons/b/b2/Stamps_of_Romania%2C_2010-04.jpg' width=150 align=\"left\"/>\n",
        "```\n",
        "\n",
        "```\n",
        "*. Stamp featuring honey bee, by Post of Romania [Public domain], via Wikimedia Commons*"
      ]
    },
    {
      "cell_type": "markdown",
      "metadata": {
        "id": "grrxIDyyUzlN"
      },
      "source": [
        "that has the sequence (from https://www.uniprot.org/uniprot/P01500):\n",
        "```\n",
        "CNCKAPETALCARRCQQH\n",
        "```\n",
        "Strickly speaking it is too short to be called a protein and should be called a polypeptide.\n",
        "It is a neurotoxin that works by blocking one of the potassium ion channels."
      ]
    },
    {
      "cell_type": "markdown",
      "metadata": {
        "id": "EirxuVLFUzlO"
      },
      "source": [
        "## Working out the number of charged residues and the overall charge of a protein\n",
        "\n",
        "The number of charged residues and overall charge of a protein are important properties that can indicate its solubility and give some indication as to where it acts.\n",
        "\n",
        "At neutral pH the positively charged amino acids are:\n",
        "```\n",
        "R Arginine\n",
        "H Histidine\n",
        "K Lysine\n",
        "```\n",
        "the negatively charged amino acids are:\n",
        "```\n",
        "D Aspartic Acid\n",
        "E Glutamic Acids\n",
        "```\n",
        "\n",
        "So to work out the number of charged amino acid:\n",
        "\n",
        "$$\n",
        "N_{charged} = N_R + N_H + N_K + N_D + N_E\n",
        "$$\n",
        "\n",
        "Where `N_R` is the number of arginines (R) in the sequence.\n",
        "\n",
        "The overall charge is:\n",
        "\n",
        "$$\n",
        "Charge_{overall} = (N_R + N_H + N_K) - (N_D + N_E)\n",
        "$$\n",
        "\n",
        "Your task it to work out the number of charged amino acids and the overall charge of apamin.\n",
        "\n",
        ">\n",
        "> *Hint: look through exercise A to see how to **count** the number of occurences of a\n",
        "> particular  character in a string*\n",
        ">\n",
        "> *Hint: you can hard code amino acid one letter codes like 'R' or use the lists defined above*"
      ]
    },
    {
      "cell_type": "code",
      "execution_count": null,
      "metadata": {
        "collapsed": true,
        "id": "z-2ZJb8-UzlO"
      },
      "outputs": [],
      "source": [
        "# first lets work on a shorter test sequence:\n",
        "sequence = 'RHKDER'\n",
        "\n",
        "# Instruction: your code to work n_charged\n",
        "n_charged = 0\n",
        "\n",
        "# Instruction: your code to work total_charge\n",
        "total_charge =0\n",
        "\n",
        "assert n_charged == 6\n",
        "assert total_charge == 2"
      ]
    },
    {
      "cell_type": "markdown",
      "metadata": {
        "id": "kD5JxlI_UzlR"
      },
      "source": [
        "Now apply your code to work out the number of charged residues and total charge of apamin."
      ]
    },
    {
      "cell_type": "code",
      "execution_count": null,
      "metadata": {
        "collapsed": true,
        "id": "yWPFuVi-UzlS"
      },
      "outputs": [],
      "source": [
        "sequence = 'CNCKAPETALCARRCQQH'  # apamin\n",
        "# Instruction: your code to work n_charged\n",
        "\n",
        "# Instruction: your code to work total_charge\n",
        "\n",
        "# Instruction: print out the results"
      ]
    },
    {
      "cell_type": "markdown",
      "metadata": {
        "id": "07fvA7ZzUzlT"
      },
      "source": [
        "Question: is apamin basic (total charge positive) or acidic (total charge negative)?"
      ]
    },
    {
      "cell_type": "code",
      "execution_count": null,
      "metadata": {
        "collapsed": true,
        "id": "ZOLrCcA6UzlT"
      },
      "outputs": [],
      "source": [
        "# Instruction: print out whether apamin is basic or acid"
      ]
    },
    {
      "cell_type": "markdown",
      "metadata": {
        "id": "CS28IzcbUzlU"
      },
      "source": [
        "One of the folk remedies for treating bee stings is to rub with vingear (acetic acid). Is this justified?\n",
        "\n",
        "Really? Read:\n",
        "* https://www.insectstings.co.uk/bee-sting-acid-or-alkali/ and\n",
        "* https://www.nhs.uk/conditions/insect-bites-and-stings/ particularly the section \"Avoid traditional home remedies, such as vinegar and bicarbonate of soda, as they're unlikely to help.\".\n"
      ]
    },
    {
      "cell_type": "markdown",
      "metadata": {
        "id": "y70hTvrUUzlV"
      },
      "source": [
        "Now work out the percentage charged residues in apamin and print this reporting one decimal place."
      ]
    },
    {
      "cell_type": "code",
      "execution_count": null,
      "metadata": {
        "collapsed": true,
        "id": "UH9FwepGUzlV"
      },
      "outputs": [],
      "source": [
        "# Instruction: print out the percentage charged residues\n",
        "# in apamin and print this reporting one decimal place."
      ]
    },
    {
      "cell_type": "markdown",
      "metadata": {
        "collapsed": true,
        "id": "duLlar7aUzlV"
      },
      "source": [
        "## reverse complement exercise\n",
        "\n",
        "> Have a go at this if you have time.\n",
        "\n",
        "In **homework B** we worked out how to find the complement of a DNA sequence:\n",
        "```\n",
        "5'-AAAATTTGGC-3'\n",
        "   ||||||||||\n",
        "3'-TTTTAAACCG-5'\n",
        "```\n",
        "The complement of the sequence `TTTTAAACCG` is shown at the bottom but this sequence is from the\n",
        "3'-end of the DNA strand so is backwards.\n",
        "\n",
        "DNA sequences are normally read from the 5'-end to the 3'-end. So the reverse compliment is found by\n",
        "1. finding the complement sequence by replacing A with T, T with A, C with G and G with C (remember the trick we used).\n",
        "2. Reversing the complement string using the technique shown in **workbook B**\n",
        "\n",
        "> compare your results with the oneline tool https://www.bioinformatics.org/sms/rev_comp.html"
      ]
    },
    {
      "cell_type": "code",
      "execution_count": null,
      "metadata": {
        "collapsed": true,
        "id": "y9uGjPlzUzlW"
      },
      "outputs": [],
      "source": [
        "# Instruction: produce a reverse compliment procedure\n",
        "# and use to find the reverse compliment of:\n",
        "# (a) AG\n",
        "# (b) CT\n",
        "# (c) AAAATTTGGC\n",
        "# (d) GCCAAATTTT\n",
        "# (e) CTGCTATAAAAGGCTG\n"
      ]
    },
    {
      "cell_type": "markdown",
      "metadata": {
        "id": "Xxo224RkUzlW"
      },
      "source": [
        "> ### Reminder: saving your work\n",
        ">\n",
        "> As you work through the work book it is important to regularly save your work. Notice that as you have made  changes the Jupyter window top line will warn you there are `(unsaved changes)` in small text. To save your work in this notebook by either select menu item `File` `Save` or by hit the save button:\n",
        ">\n",
        "> ![Jupyter Notebook Save Button|](https://aru-bioinf-ibds.github.io./images/save_button.png)\n",
        ">\n",
        ">\n",
        "> ### Reminder: getting help\n",
        "> Please see the page:\n",
        "> [Help with programming](https://canvas.anglia.ac.uk/courses/12178/pages/help-with-programming)\n",
        "> on ARU Canvas."
      ]
    },
    {
      "cell_type": "markdown",
      "metadata": {
        "id": "1nLRBIJ-UzlW"
      },
      "source": [
        "## Once you have completed this homework,\n",
        "Please see ARU Canvas page\n",
        "[Reflection on Practical C: lists and strings.](https://canvas.anglia.ac.uk/courses/12178/discussion_topics/107384)\n",
        "for the what do next *(note that link will only work for ARU students)."
      ]
    },
    {
      "cell_type": "code",
      "execution_count": null,
      "metadata": {
        "id": "PTDydCwaUzlX"
      },
      "outputs": [],
      "source": []
    }
  ],
  "metadata": {
    "kernelspec": {
      "display_name": "Python 3",
      "language": "python",
      "name": "python3"
    },
    "language_info": {
      "codemirror_mode": {
        "name": "ipython",
        "version": 3
      },
      "file_extension": ".py",
      "mimetype": "text/x-python",
      "name": "python",
      "nbconvert_exporter": "python",
      "pygments_lexer": "ipython3",
      "version": "3.7.1"
    },
    "colab": {
      "provenance": [],
      "include_colab_link": true
    }
  },
  "nbformat": 4,
  "nbformat_minor": 0
}